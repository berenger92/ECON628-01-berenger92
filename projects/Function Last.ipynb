{
 "cells": [
  {
   "cell_type": "code",
   "execution_count": null,
   "metadata": {
    "collapsed": true
   },
   "outputs": [],
   "source": [
    "#Function that calls the MSE and R^2 at once, using the name of the method and calling the best model\n",
    "\n",
    "def rsquare_meansquare_error(train_y, test_y, train_X, test_X, test1, best_model1, test2, best_model2, test3, best_model3, test4, best_model4):\n",
    "    \"\"\" first we need to predict on the test and train data\"\"\"\n",
    "    y_train_pred1 = best_model1.predict(train_X)\n",
    "    y_test_pred1 = best_model1.predict(test_X)\n",
    "    \n",
    "    y_train_pred2 = best_model2.predict(train_X)\n",
    "    y_test_pred2 = best_model2.predict(test_X)\n",
    "    \n",
    "    y_train_pred3 = best_model3.predict(train_X)\n",
    "    y_test_pred3 = best_model3.predict(test_X)       \n",
    "    \n",
    "    y_train_pred4 = best_model4.predict(train_X)\n",
    "    y_test_pred4 = best_model4.predict(test_X)\n",
    "\n",
    "    \"\"\" We call the MSE in the following lines\"\"\"\n",
    "    print ('MSE ' + test1 + ' train data: %.2f, test data: %.2f' % (\n",
    "        mean_squared_error(train_y, y_train_pred1),\n",
    "        mean_squared_error(test_y, y_test_pred1)))\n",
    "    \n",
    "    \"\"\" We call the R^2 in the following lines\"\"\"\n",
    "    print('R^2 ' + test1 + ' train data: %.2f, test data: %.2f' % (\n",
    "        r2_score(train_y, y_train_pred1),\n",
    "        r2_score(test_y, y_test_pred1)))\n",
    "    \n",
    "    \n",
    "    print ('MSE ' + test + ' train data: %.2f, test data: %.2f' % (\n",
    "        mean_squared_error(train_y, y_train_pred2),\n",
    "        mean_squared_error(test_y, y_test_pred2)))\n",
    "    \n",
    "    \"\"\" We call the R^2 in the following lines\"\"\"\n",
    "    print('R^2 ' + test + ' train data: %.2f, test data: %.2f' % (\n",
    "        r2_score(train_y, y_train_pred2),\n",
    "        r2_score(test_y, y_test_pred2)))\n",
    "    \n",
    "    \n",
    "    print ('MSE ' + test3 + ' train data: %.2f, test data: %.2f' % (\n",
    "        mean_squared_error(train_y, y_train_pred3),\n",
    "        mean_squared_error(test_y, y_test_pred3)))\n",
    "    \n",
    "    \"\"\" We call the R^2 in the following lines\"\"\"\n",
    "    print('R^2 ' + test3 + ' train data: %.2f, test data: %.2f' % (\n",
    "        r2_score(train_y, y_train_pred3),\n",
    "        r2_score(test_y, y_test_pred3)))\n",
    "    \n",
    "    \n",
    "    print ('MSE ' + test4 + ' train data: %.2f, test data: %.2f' % (\n",
    "        mean_squared_error(train_y, y_train_pred4),\n",
    "        mean_squared_error(test_y, y_test_pred4)))\n",
    "    \n",
    "    \"\"\" We call the R^2 in the following lines\"\"\"\n",
    "    print('R^2 ' + test4 + ' train data: %.2f, test data: %.2f' % (\n",
    "        r2_score(train_y, y_train_pred4),\n",
    "        r2_score(test_y, y_test_pred4)))"
   ]
  }
 ],
 "metadata": {
  "anaconda-cloud": {},
  "kernelspec": {
   "display_name": "Python [conda root]",
   "language": "python",
   "name": "conda-root-py"
  },
  "language_info": {
   "codemirror_mode": {
    "name": "ipython",
    "version": 2
   },
   "file_extension": ".py",
   "mimetype": "text/x-python",
   "name": "python",
   "nbconvert_exporter": "python",
   "pygments_lexer": "ipython2",
   "version": "2.7.12"
  }
 },
 "nbformat": 4,
 "nbformat_minor": 1
}
