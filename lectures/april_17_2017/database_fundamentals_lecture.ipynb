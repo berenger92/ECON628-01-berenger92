{
 "cells": [
  {
   "cell_type": "markdown",
   "metadata": {
    "slideshow": {
     "slide_type": "slide"
    }
   },
   "source": [
    "<img src=\"https://images.efollett.com/htmlroot/images/templates/storeLogos/CA/864.gif\" style=\"float: right;\"> \n",
    "\n",
    "\n",
    "\n",
    "\n",
    "# ECON628-01 \n",
    "### Lecture 1.1 - Database Fundamentals \n",
    "---\n"
   ]
  },
  {
   "cell_type": "markdown",
   "metadata": {
    "slideshow": {
     "slide_type": "slide"
    }
   },
   "source": [
    "### What have we learned so far?\n",
    "- Work with CSV, dta, text files \n",
    "- Use Pandas Dataframes and Python dictionaries\n",
    "- Transfer data to/from Pandas from/to CSV?\n",
    "----\n",
    "### Today we will learn:\n",
    "- What is RDBMS fundamentals\n",
    "- What SQL and noSQL mean\n",
    "- Tradeoffs between SQL and noSQL\n",
    "- Identify remote vs local database instances\n",
    "- SQL types"
   ]
  },
  {
   "cell_type": "markdown",
   "metadata": {
    "slideshow": {
     "slide_type": "slide"
    }
   },
   "source": [
    "## csv, txt, dta and json files \n",
    "---\n",
    "\n",
    "Up to this point, we have used DataFrames, sourced from CSV and sometimes json (Matt), text (Jeremiah) files.\n",
    "\n",
    "Mainly these solutions lack\n",
    "- Fault tolerence \n",
    "- Performance / Scalability\n",
    "- Interactive Features\n",
    "\n",
    "**Databases** are the standard solution for data _storage_ and are much more robust than text, CSV or json files. Most analyses involve using data in some format and in most settings, a database is the tool of choice.\n",
    "\n",
    "Databases can come in many flavors, designed to serve for different use cases. \n",
    "- We will explore the most common families of databases: Relational (RDBMS) and non-Relational (noSQL)."
   ]
  },
  {
   "cell_type": "markdown",
   "metadata": {
    "slideshow": {
     "slide_type": "slide"
    }
   },
   "source": [
    "## Prevalence in the Job Market (Economist, Data Analyst, Data Scientist)\n",
    "---\n",
    "Why should you learn SQL???\n",
    "\n",
    "_Circa December 2016 - Frequency of Terms related to \"Economist, Data Analyst, Data Scientist\" on Indeed.com_\n",
    "![](https://snag.gy/Gweik7.jpg)"
   ]
  },
  {
   "cell_type": "markdown",
   "metadata": {
    "slideshow": {
     "slide_type": "slide"
    }
   },
   "source": [
    "\n",
    "## Relational Database Systems (RDBMS) \n",
    "---\n",
    "\n",
    "Databases are computer systems that manage storage and querying of data. Databases provide a way to organize data along with efficient methods to retrieve specific information.\n",
    "\n",
    "Typically, retrieval is performed using **structured query lanaguge (SQL)**, with many operators for conditional selection, aggregation, joining/merging, and data transformation.  **Many of these concepts we've explored using Pandas DataFrames!**\n",
    "\n",
    "Databases allow users to create rules that ensure proper data management and verification."
   ]
  },
  {
   "cell_type": "markdown",
   "metadata": {
    "slideshow": {
     "slide_type": "slide"
    }
   },
   "source": [
    "### Letst take a look at this example\n",
    "---\n",
    "\n",
    "Consider the case of a bank. It needs to keep track of all the money in each of its clients' accounts. Let's suppose that the bank stores these as numbers in a table with two columns:\n",
    "\n",
    "| ACCOUNT_ID | BALANCE |\n",
    "|---|---|\n",
    "| 1 | 10.000 |\n",
    "| 2 | 12.546 |\n",
    "| 3 | 8761 |\n",
    "|...|...|\n",
    "\n",
    "\n"
   ]
  },
  {
   "cell_type": "markdown",
   "metadata": {
    "slideshow": {
     "slide_type": "slide"
    }
   },
   "source": [
    "### Problems with the previous example\n",
    "---\n",
    "**- If this table was stored in a file in a central bank, how would internet banking look like?** \n",
    "\n",
    "**- What problems could arise?**\n",
    "- consistency (what if two nodes try to read/edit the file at the same time?)\n",
    "- availability (what if a node is not connected to the central bank?)\n",
    "- partition tolerance (what if only part of the file is available?)\n",
    "- scale (what if too many nodes request data from the file at the same time?)\n",
    "\n",
    "### The issue:\n",
    "---\n",
    "When multiple processes/users are interacting with the same data, it quickly becomes **impractical** to store it in a single file on a single machine. <span style=\"color:red\">**That is when a database comes in.**</span>\n",
    "\n",
    "\n"
   ]
  },
  {
   "cell_type": "markdown",
   "metadata": {
    "slideshow": {
     "slide_type": "slide"
    }
   },
   "source": [
    "### Transactional Integrity\n",
    "----\n",
    "A unit of work performed against a database is called a _transaction_. This term generally represents any change in database.\n",
    "\n",
    "Going back to the bank example, consider the case where you want to transfer money from an account to another.\n",
    "\n",
    "![Transaction](https://snag.gy/FExUYB.jpg)\n",
    "\n"
   ]
  },
  {
   "cell_type": "markdown",
   "metadata": {
    "slideshow": {
     "slide_type": "slide"
    }
   },
   "source": [
    "### Transactional Integrity\n",
    "----\n",
    "**Imagine your money in the previously fake system:**\n",
    "- What happens if step 1 succeeds and step 2 fails ?\n",
    "- What if you request the balance between step 1 and step2 ?\n",
    "\n",
    "The system that stores the data must be resilient to these problems. It must know when a transaction begins, when it ends, what to do if it never ends and what to do if another transaction is requested, while the previous one is still going."
   ]
  },
  {
   "cell_type": "markdown",
   "metadata": {
    "slideshow": {
     "slide_type": "slide"
    }
   },
   "source": [
    "### Transactional Integrity\n",
    "----\n",
    "\n",
    "#### ACID\n",
    "\n",
    "The acronym ACID stands for Atomicity, Consistency, Isolation, Durability. This is a set of properties that guarantee that database transactions are processed reliably.\n",
    "\n",
    "**Atomicity** requires that each transaction be \"all or nothing\": if one part of the transaction fails, the entire transaction fails, and the database state is left unchanged.\n",
    "\n",
    "**Consistency** ensures that any transaction will bring the database from one valid state to another. Any data written to the database must be valid according to all defined rules, including constraints, cascades, triggers, and any combination thereof.\n",
    "\n",
    "**Isolation** ensures that the concurrent execution of transactions results in a system state that would be obtained if transactions were executed serially, i.e., one after the other.\n",
    "\n",
    "**Durability** ensures that once a transaction has been committed, it will remain so, even in the event of power loss, crashes, or errors. In a relational database, for instance, once a group of SQL statements execute, the results need to be stored permanently (even if the database crashes immediately thereafter)\n",
    "\n",
    "This is the typical model under which **_relational databases_** operate, and it fits perfectly our previous example of the bank.\n"
   ]
  },
  {
   "cell_type": "markdown",
   "metadata": {
    "slideshow": {
     "slide_type": "slide"
    }
   },
   "source": [
    "### Relational Databases\n",
    "---\n",
    "\n",
    "A _relational database_ is a database based tabular data and link between data entities or concepts. Typically, a relational database is organized into _tables_. Each table should correspond to one entity or concept. Each _table_ is similar to a single CSV file or Pandas dataframe.\n",
    "\n",
    "For example, let's take a sample application like Twitter. Our two main entities are Users and Tweets. For each of these we would have a table.\n",
    "\n",
    "| TWEET_ID | USER_ID | TWEET_TEXT |\n",
    "|---|---|---|\n",
    "| 5234 | 1234567 | \"Ate an entire pound of bacon this morning.  My arteries are ready to start the day.\" |\n",
    "| 2351 | 4529234 | \"Spock vs Chewbaka.  My definitive fan fiction chronicles a potential outcome.\" |\n",
    "| 5521 | 2348902932 | \"OMG Kardashians + Bieber convolutional network mashup madness.\" |\n",
    "|...|...|...|\n",
    "\n",
    "| USER_ID | USERNAME |\n",
    "|---|---|\n",
    "| 1234567 | \"sebastian\" |\n",
    "| 4529234 | \"javiero142814\" |\n",
    "| 2348902932 | \"justin_34\" |\n",
    "|...|...|\n",
    "\n",
    "A table is made up rows and columns, similar to a Pandas dataframe or Excel spreadsheet.  It's standard practice in relational database design to segment your data to it's essential form.  Rather than putting \"username\" in every single row inside the tweets table, we can simply reference a username by \"ID\".  This saves a lot of space if you have a table with billions of records."
   ]
  },
  {
   "cell_type": "markdown",
   "metadata": {
    "slideshow": {
     "slide_type": "slide"
    }
   },
   "source": [
    "### \"Schemas\"\n",
    "---\n",
    "\n",
    "The term **\"schema\"** can mean different things depending on which flavor of database you are talking about (MySQL, Postgres, Oracle, MSSQL).  Generally:\n",
    "\n",
    ">A **schema** is a collection of database objects which includes logical structures.\n",
    "\n",
    "Including:\n",
    "\n",
    "- Databases\n",
    "- Tables\n",
    "- Relationships Between Tables\n",
    "- Keys and Indexes"
   ]
  },
  {
   "cell_type": "markdown",
   "metadata": {
    "slideshow": {
     "slide_type": "slide"
    }
   },
   "source": [
    "##  Relational Databases Schemas\n",
    "---\n",
    "\n",
    "A table can also be refered to as a _schema_ which defines how data will be managed and contained. \n",
    "\n",
    "Table schemas define:\n",
    "\n",
    "- Column definitions\n",
    "  - Type\n",
    "  - Length\n",
    "- Indexes\n",
    "  - Unique constraints\n",
    "- Keys\n",
    "  - Auto-increment behavior\n",
    "  - Relationships to other tables\n",
    "    - Primary \n",
    "    - Foreign\n",
    "\n",
    "These specify what columns are contained in the table and what _type_ those columns are (text, integers, floats, etc.).\n",
    "\n",
    "The addition of _type_ information make this constraint stronger than a CSV file. For this reason, and many others, \n",
    "<span style=\"color:red\">**databases allow for stronger data consistency and often are a better solution for data storage.**</span>"
   ]
  },
  {
   "cell_type": "markdown",
   "metadata": {
    "slideshow": {
     "slide_type": "slide"
    }
   },
   "source": [
    "##  Relational Databases Schemas\n",
    "---\n",
    "Each table typically has a _primary key_ column. This column is a unique value per row and serves as the identifier for the row.\n",
    "\n",
    "A table can have many _foreign keys_ as well. A _foreign key_ is a column that contains values to link the table to the other tables. For example, the tweets table may have as columns:\n",
    "- tweet_id, the primary key tweet identifier\n",
    "- the tweet text\n",
    "- the user id of the member, a foreign key to the users table\n",
    "\n",
    "| _Primary Key_ | _Foreign Key_ | |\n",
    "|---|---|---|\n",
    "| **TWEET_ID** | **USER_ID** | **TWEET_TEXT** |\n",
    "|---|---|---|\n",
    "| 5234 | 1234567 | \"Ate an entire pound of bacon this morning.  My arteries are ready to start the day.\" |\n",
    "| 2351 | 4529234 | \"Spock vs Chewbaka.  My definitive fan fiction chronicles a potential outcome.\" |\n",
    "| 5521 | 2348902932 | \"OMG Kardashians + Bieber convolutional network mashup madness.\" |\n",
    "|...|...|...|\n",
    "\n",
    "These keys that link the table together define the relational database.\n",
    "\n",
    "MySQL and Postgres are popular variants of relational databases and are widely used. Both of these are open-source so are available for free.\n",
    "\n",
    "Alternatively, many larger companies may use Oracle or Microsoft SQL databases. While these all offer many of the same features (and use SQL as a query language), the latter also offer some maintenance features that large companies find useful."
   ]
  },
  {
   "cell_type": "markdown",
   "metadata": {
    "slideshow": {
     "slide_type": "slide"
    }
   },
   "source": [
    "## Can you design a relational database? (take 10 min)\n",
    "---\n",
    "Consider the following dataset from Lyft with the follow fields:\n",
    "    - User ID\n",
    "    - User Name\n",
    "    - Driver ID\n",
    "    - Driver Name\n",
    "    - Ride ID\n",
    "    - Ride Time\n",
    "    - Pickup Longitude\n",
    "    - Pickup Latitude\n",
    "    - Pickup Location Entity\n",
    "    - Drop-off Longitude\n",
    "    - Drop-off Latitude\n",
    "    - Drop-off Location Entity\n",
    "    - Miles\n",
    "    - Travel Time\n",
    "    - Fare\n",
    "    - CC Number\n",
    "    \n",
    "Work with 3 more students and answer the following questions:\n",
    "\n",
    "- How would you design a relational database to support this data?\n",
    "- List the tables you would create (Users, Drivers, Location tables)\n",
    "- What fields would they contain?\n",
    "- How would they link to other tables?\n"
   ]
  },
  {
   "cell_type": "markdown",
   "metadata": {
    "slideshow": {
     "slide_type": "slide"
    }
   },
   "source": [
    "### Key-value stores\n",
    "Some databases are nothing more than very-large (and very-fast) hash-maps or dictionaries that can be larger than memory. These are useful for storing key based data, i.e. storing the last access or visit time per user, or counting things per user or customer.\n",
    "\n",
    "Every entry in these databases has two values, **a key and value,** and we can retrieve any value based on its key. This is exactly like a<span style=\"color:red\"> _python dictionary_,</span> but can be much larger than your memory allows and uses smart caching algorithms to ensure frequently or recently accessed items are quickly accessible.  The ideal use case for a key-value store is ephermeral data.\n",
    "\n",
    "Popular key-value stores include **Cassandra, Redis, Kafka, and `memcachedb`** => All foreing Languages to me!!\n",
    "\n",
    "Key-value stores are typically used for: _image stores, key-based filesystems, object cache, systems designed to scale_."
   ]
  },
  {
   "cell_type": "markdown",
   "metadata": {
    "slideshow": {
     "slide_type": "slide"
    }
   },
   "source": [
    "### NoSQL or Document databases\n",
    "---\n",
    "\"NoSQL\" databases don't rely on a traditional table setup and are more flexible in their data organization. Typically they do actually have SQL querying abilities, but simply model their data differently.\n",
    "\n",
    "Many organize the data on an entity level, but often have denormalized and nested data setups. For example, for each user, we may store their metadata, along with a collection of tweets, each of which has its own metadata. This nesting can continue down encapsulating entities. This data layout is similar what we might expect in hierarchically structured data structures such as JSON, XML, or Python Dictionaries.\n",
    "\n",
    "Popular databases of this variety include **`mongodb` and `couchdb`.**\n",
    "\n",
    "Typical uses: high-variablity data, document search, integration hubs, web content management, publishing..."
   ]
  },
  {
   "cell_type": "markdown",
   "metadata": {
    "slideshow": {
     "slide_type": "slide"
    }
   },
   "source": [
    "## Database solution selection:\n",
    "---\n",
    "\n",
    "### At this point you should be asking yourself? \n",
    "**Which database solution to learn/use??**\n",
    "\n",
    "** ANS:** choose a <span style=\"color:red\">relational database like Postgres and MySQL that are much more scalable</span>  \n",
    "\n",
    "![Transaction](https://snag.gy/CRLkol.jpg)\n",
    "\n",
    "\n",
    "Meaning:\n",
    "\n",
    "- Easy to migrate to NoSQL\n",
    "- Scalable \n",
    "- Maximum flexiblity to query data\n",
    "- Widest array of features overall"
   ]
  },
  {
   "cell_type": "markdown",
   "metadata": {
    "slideshow": {
     "slide_type": "slide"
    }
   },
   "source": [
    "## Timeseries databases\n",
    "---\n",
    "Time series databases (TSDB) are optimized for handling time series data, i.e. data that is indexed by time (a datetime or a datetime range).\n",
    "\n",
    "Examples of time series include stock market data, energy load data from a utility company, server metrics, purchase history, website metric, ads and clicks, sensor data from a wearable device or an internet-of-things sensor, smartphone sensor data, just to name a few..\n",
    "\n",
    "Time series pose different challenges that cannot be usually solved with the traditional relational database model.\n",
    "\n",
    "What issues could arise when modeling time series data with a tabular data model?\n",
    "\n",
    "> - critical data volume\n",
    "> - time ordering\n",
    "> - out of order inserts\n",
    "> - joins\n",
    "\n",
    "Popular databases of this variety include: **Atlas, Druid, InfluxDB, Splunk**\n",
    "\n",
    "Typical uses: financial data, metrics, energy monitoring..."
   ]
  },
  {
   "cell_type": "markdown",
   "metadata": {
    "slideshow": {
     "slide_type": "slide"
    }
   },
   "source": [
    "\n",
    "## Connecting to a Local Database\n",
    "---\n",
    "A database can be **local or remote**, it can span a single machine or it can be distributed with replicated data over several machines. The latter configuration is called _sharding_.\n",
    "\n",
    "Let's start by connecting to a local _sqlite_ database.\n",
    "\n",
    "### SQLite\n",
    "\n",
    "**[SQLite](https://sqlite.org/)** is a database software package built on the Structured Query Language [(SQL)](https://en.wikipedia.org/wiki/SQL).  It is similar to other SQL databases, such as [PostgreSQL](http://www.postgresql.org/), [MySQL](https://www.mysql.com/), Oracle, and Microsoft SQL Server, except that it is *file-based*, rather than *server-based*.  This makes it easy to setup and use for small projects, but less suitable for production environments.  Once you are familiar with sqlite, the same ideas, and similar syntax, can be applied to other SQL databases.\n",
    "\n",
    "SQLite v3 is bundled with most python distributions (including our Anaconda distribution).  There are two options we recommend for browsing SQLite3 databases:\n",
    "\n",
    "- [SQLite Browser](http://sqlitebrowser.org/), a free cross-platform solution\n",
    "- [SQLite Manager](https://addons.mozilla.org/en-US/firefox/addon/sqlite-manager/?src), a Firefox add-on for viewing SQLite database files via a simple GUI.\n"
   ]
  },
  {
   "cell_type": "markdown",
   "metadata": {
    "slideshow": {
     "slide_type": "slide"
    }
   },
   "source": [
    "\n",
    "## SQLite\n",
    "---\n",
    "There are multiple ways of interacting with an SQLite database, including:\n",
    "\n",
    "1. SQLite Command Line Utility\n",
    "2. python `sqlite3` package\n",
    "3. `pandas` SQL Interface\n",
    "4. High-level ORMs (e.g. sqlalchemy, django ORM, etc.)\n",
    "\n",
    "Let's start with method 1. All of these methods provide some form of wrapper, or set of convenience functions, for interacting with SQLite.  Behind the scenes, the **Structured Query Language (SQL)** itself defines the interface to the database software.  This underlying SQL syntax will be visible to a greater or lesser degree depending upon the method that is chosen."
   ]
  },
  {
   "cell_type": "markdown",
   "metadata": {
    "slideshow": {
     "slide_type": "slide"
    }
   },
   "source": [
    "## Common SQL Command Patterns\n",
    "---\n",
    "The SQL command set has a rich syntax with numerous options, but most of the commonly used commands follow a few simple patterns.  A basic familiarity of these patterns is helpful when working in SQL:\n",
    "\n",
    "    CREATE TABLE ...\n",
    "    ALTER TABLE ... ADD COLUMN ...\n",
    "    INSERT INTO ... VALUES ...\n",
    "    UPDATE ... SET ... WHERE ...\n",
    "    SELECT ... FROM ... WHERE ...\n",
    "    SELECT ... FROM ... JOIN ... ON ...\n",
    "    DELETE FROM ... WHERE ..."
   ]
  },
  {
   "cell_type": "markdown",
   "metadata": {
    "slideshow": {
     "slide_type": "slide"
    }
   },
   "source": [
    "## SQLite - command line utility\n",
    "---\n",
    "\n",
    "The first method we'll explore is connecting to SQLite via the built-in [command line utility](https://www.sqlite.org/sqlite.html).  \n",
    "\n",
    "> Note: the commands in this section should be executed within your normal terminal shell.\n",
    "\n",
    "To start a new session of the interpreter, simply open your terminal and type `sqlite3`, followed by the name of the database file.  If the file does not yet exist, sqlite will create it.\n",
    "    \n",
    "    cd to your Desktop\n",
    "    $ sqlite3 test1.sqlite\n",
    "\n",
    "    SQLite version 3.7.12 2012-04-03 19:43:07\n",
    "    Enter \".help\" for instructions\n",
    "    Enter SQL statements terminated with a \";\"\n",
    "    sqlite>\n",
    "\n",
    "Notice that your terminal prompt changes to `sqlite>`, indicating that you are now entering commands into the sqlite command line utility.  Take a quick look at the help command:\n",
    "\n",
    "    sqlite> .help\n",
    "Display the current databases - you should see the new file `test1.db`:\n",
    "\n",
    "    sqlite> .databases\n",
    "    "
   ]
  },
  {
   "cell_type": "markdown",
   "metadata": {
    "slideshow": {
     "slide_type": "slide"
    }
   },
   "source": [
    "\n",
    "## SQLite creating tables and adding columns\n",
    "---\n",
    "Create an table called `table1` with a single column `field1` containing an INTEGER PRIMARY KEY:\n",
    "\n",
    "    sqlite> CREATE TABLE table1 (field1 INTEGER PRIMARY KEY);\n",
    "\n",
    "Add a few more columns to `table1`:\n",
    "\n",
    "    sqlite> ALTER TABLE table1 ADD COLUMN field2 VARCHAR(16);\n",
    "    sqlite> ALTER TABLE table1 ADD COLUMN field3 REAL;\n",
    "    sqlite> ALTER TABLE table1 ADD COLUMN field4 TEXT;\n",
    "\n",
    "Notice the different field types in the ALTER TABLE commands.  SQLite supports several different [field types](https://www.sqlite.org/datatype3.html), including INTEGERS, variable length VARCHAR character fields (with a max length), TEXT fields, and 'REALS', which are used to store floating point numbers.\n",
    "\n",
    "Verify that the table was created:\n",
    "\n",
    "    sqlite> .tables\n",
    "\n",
    "You can check the `schema` of the table using `.schema`, which shows the commands that would be needed to create the database tables from scratch.  \n",
    "\n",
    "    sqlite> .schema\n",
    "\n",
    "Notice that in this case, our `table1` could have been created with a single command, rather than adding each column separately.\n"
   ]
  },
  {
   "cell_type": "markdown",
   "metadata": {
    "slideshow": {
     "slide_type": "slide"
    }
   },
   "source": [
    "## SQLite - adding data\n",
    "---\n",
    "Let's add some data:\n",
    "\n",
    "    sqlite> INSERT INTO table1 VALUES (1, 'Henry James', 42, '75 Mission Street, San Francisco, CA');\n",
    "    sqlite> INSERT INTO table1 VALUES (2, 'Carol James', 40, '75 Mission Street, San Francisco, CA');\n",
    "    sqlite> INSERT INTO table1 VALUES (3, 'Jesse James', 12, '75 Mission Street, San Francisco, CA');\n",
    "\n",
    "Notice that the first column has unique values - this is a requirement for the PRIMARY KEY column.  If we try to add a record using an existing PK value we'll get an error:\n",
    "\n",
    "    sqlite> INSERT INTO table1 VALUES (3, 'Julie James', 10, '75 Mission Street, San Francisco, CA');\n",
    "    Error: PRIMARY KEY must be unique\n",
    "\n",
    "Fortunately, SQLite has some built in functionality to auto-increment the PK value - just set the value of the PK field to NULL when doing the INSERT and it will automatically be set to a valid value.\n",
    "\n",
    "    sqlite> INSERT INTO table1 VALUES (NULL, 'Julie James', 10, '75 Mission Street, San Francisco, CA');\n",
    "\n",
    "Now that we have some data, take a look at the database using the **SQLite Browser**.\n",
    "\n",
    "1. Open App\n",
    "2. Open SQLite3 File \"Open Database\" from file menu\n",
    "3. Click on \"Browse Data\" from tabbed UI\n",
    "\n",
    "Notice that the value in `field1` for the Julie James record has been automatically set to 4."
   ]
  },
  {
   "cell_type": "markdown",
   "metadata": {
    "slideshow": {
     "slide_type": "slide"
    }
   },
   "source": [
    "## SQLite - updating records\n",
    "---\n",
    "Suppose we need to update an existing record with new data - e.g. maybe Julie James is only 9.  For this we use the UPDATE command:\n",
    "\n",
    "    sqlite> UPDATE table1 SET field3=9 WHERE field1=4;"
   ]
  },
  {
   "cell_type": "markdown",
   "metadata": {
    "slideshow": {
     "slide_type": "slide"
    }
   },
   "source": [
    "## SQLite - removing records\n",
    "---\n",
    "To remove records use the DELETE command:\n",
    "\n",
    "    sqlite> DELETE FROM table1 WHERE field2 like '%Jesse%';\n",
    "\n",
    "Use SQLite-Manager to verify that the Jesse James record has been removed.  To exit the sqlite interpreter type `.exit`.\n",
    "\n",
    "    sqlite>  .exit"
   ]
  },
  {
   "cell_type": "markdown",
   "metadata": {
    "slideshow": {
     "slide_type": "slide"
    }
   },
   "source": [
    "## SQLite - exercise\n",
    "---\n",
    "#### MAC Users\n",
    "---\n",
    "1. In the datasets folder, create a SQL folder\n",
    "2. In the SQL folder, save the music.db file\n",
    "3. Lauch your terminal\n",
    "4. cd to your SQL folder\n",
    "5. Type \"sqlite3\"\n",
    "\n",
    "#### Window Users\n",
    "---\n",
    "1. Move the music.db file into same folder as sqlite3 executable file\n",
    "2. Double click your sqlite3 executable file\n",
    "\n"
   ]
  },
  {
   "cell_type": "markdown",
   "metadata": {
    "slideshow": {
     "slide_type": "slide"
    }
   },
   "source": [
    "## SQLite - exercise\n",
    "---\n",
    "1. Open the database:\n",
    "   > .open music.db\n",
    "    \n",
    "2. View the database schema:\n",
    "   > .schema\n",
    "    \n",
    "3. Explore a dataset:\n",
    "   > SELECT * FROM ALBUM LIMIT 10;\n",
    "   \n",
    "   Note **Semi-colon is used to mark the end of a query**\n",
    "4. Basic Query Structure:\n",
    "    > SELECT (values you want to view)\n",
    "    \n",
    "    > FROM (data source - table name)\n",
    "    \n",
    "    > WHERE (conditions for your results)\n",
    "    \n",
    "    > ; (delimiter for end of query)\n"
   ]
  },
  {
   "cell_type": "markdown",
   "metadata": {
    "slideshow": {
     "slide_type": "slide"
    }
   },
   "source": [
    "#### MAC and Window Users\n",
    "---\n",
    "1. Open your text editor\n",
    "2. Create a file with the following text: \n",
    "    > SELECT *\n",
    "    \n",
    "    > FROM Album\n",
    "    \n",
    "    > LIMIT 10;\n",
    "3. **Save** file as **class_exercises_1.sql** in same folder as sql_music.db \n",
    "\n",
    "    (Note: you’ll probably have to expand save as window)\n",
    "4. Execute SQL from file\n",
    "    > .read class_exercises_1.sql"
   ]
  },
  {
   "cell_type": "markdown",
   "metadata": {
    "slideshow": {
     "slide_type": "slide"
    }
   },
   "source": [
    "#### MAC and Window Users\n",
    "---\n",
    "1. View Column Headers \n",
    "> .header on\n",
    "\n",
    "2. Organize Data in Columns:\n",
    "> .mode column \n",
    " \n",
    " (Note: default mode is list)\n"
   ]
  },
  {
   "cell_type": "markdown",
   "metadata": {},
   "source": [
    "#### MAC and Window Users\n",
    "---\n",
    "Best Practices:\n",
    "1. CAPITALIZE SQL COMMANDS\n",
    "2. Use Indentation to Improve Readability:\n",
    "    > SELECT \n",
    "        albumid,\n",
    "        title\n",
    "    > FROM \n",
    "        album\n",
    "    \n",
    "    > LIMIT 10;"
   ]
  },
  {
   "cell_type": "markdown",
   "metadata": {
    "slideshow": {
     "slide_type": "slide"
    }
   },
   "source": [
    "#### Challenges\n",
    "---\n",
    "\n",
    "1. What are the genres in the database?  \n",
    "2. What are the customer names that are from California? \n",
    "(Hint: text strings need to be in single quotes) \n",
    "3. How many songs are longer than 10 minutes?\n",
    "4. How many invoices were there between January 1, 2010 and February 1, 2010 (hint: dates are in single quotes and use google to find format)?\n",
    "5. How many tracks have a NULL composer?\n",
    "6. How many distinct album titles are there? How many distinct album IDs? Why would these have different counts?\n",
    "7.What are the 5 longest songs?\n",
    "8. R.E.M. has collaborated with a couple artists, can you find which artists they’ve collaborated with? \n",
    "(Hint: Use the Artist Table)\n",
    "9. How many ‘Love’ songs are there?  (Hint: Use the Track Name)\n"
   ]
  },
  {
   "cell_type": "markdown",
   "metadata": {},
   "source": [
    "## JOINS\n",
    "---\n",
    "**Multiple Joins - Example**\n",
    "> SELECT COUNT(*) FROM track\n",
    "\n",
    "> JOIN album\n",
    "\n",
    "> ON track.albumid = album.albumid JOIN artist\n",
    "\n",
    "> ON album.artistid = artist.artistid WHERE artist.name LIKE ‘a%’;"
   ]
  },
  {
   "cell_type": "markdown",
   "metadata": {},
   "source": [
    "#### Challenges\n",
    "---\n",
    "1. How many tracks are rock or alternative?\n",
    "2. How many tracks are performed by R.E.M. excluding collaborators?\n",
    "3. How many tracks are performed by R.E.M. with collaborators?\n",
    "4. What other interesting queries can you create that join 2 tables?"
   ]
  },
  {
   "cell_type": "markdown",
   "metadata": {},
   "source": [
    "## Aliases\n",
    "---\n",
    "1. Fields can be renamed: \n",
    "    > SELECT milliseconds/1000.0 AS seconds \n",
    "2. Tables can be given aliases: \n",
    "    > SELECT \n",
    "        t.name, \n",
    "        t.milliseconds, \n",
    "        g.name  \n",
    "    > FROM track t\n",
    "    \n",
    "    >JOIN genre g \n",
    "    \n",
    "    > ON t.genreid = g.genreid;"
   ]
  },
  {
   "cell_type": "markdown",
   "metadata": {},
   "source": [
    "#### Challenges\n",
    "---\n",
    "1. What was the sales total for January 2010?\n",
    "2. What is the average length of a song by R.E.M.? (Convert results to minutes)"
   ]
  },
  {
   "cell_type": "markdown",
   "metadata": {},
   "source": [
    "## GROUP BY & AND HAVING\n",
    "---\n",
    "Here is the idea\n",
    "> SELECT\n",
    "    composer, COUNT(*)  \n",
    "> FROM track \n",
    "> GROUP BY composer  \n",
    "> HAVING COUNT(*) > 20;"
   ]
  },
  {
   "cell_type": "markdown",
   "metadata": {},
   "source": [
    "#### Challenges\n",
    "---\n",
    "1. Which Artists have the most Tracks?\n",
    "2. Which Albums have the longest playing time?"
   ]
  },
  {
   "cell_type": "markdown",
   "metadata": {
    "slideshow": {
     "slide_type": "slide"
    }
   },
   "source": [
    "\n",
    "## Connecting to a Remote Database \n",
    "---\n",
    "\n",
    "> Update with AWS configuration settings (show how)\n",
    "\n",
    "### Postgresql\n",
    "\n",
    "**[Postgresql](http://www.postgresql.org/)** is a very powerful SQL based relational database.\n",
    "\n",
    "#### PostgreSQL syntax\n",
    "\n",
    "GA provides a PostgreSQL database instance at the following address:\n",
    "\n",
    "You can connect to it using:\n",
    "\n",
    "> ### OSX Users\n",
    "> For OSX, we install postgress via the PostgresApp package from [postgresapp.com](http://postgresapp.com/)\n",
    "> Also, for easy access, add this alias to your .bash_profile:\n",
    ">\n",
    "> **Edit the file:** <br>\n",
    "> `nano ~/.bash_profile`\n",
    ">\n",
    "> **Add this line:** <br>\n",
    "> `alias psql=/Applications/Postgres.app/Contents/Versions/9.5/bin/psql`\n",
    ">\n",
    "> **Reload your profile:** <br>\n",
    "> `source ~/.bash_profile`\n",
    "\n",
    "    psql -h dsi.c20gkj5cvu3l.us-east-1.rds.amazonaws.com -p 5432 -U dsi_student titanic\n",
    "    password: gastudents\n",
    "\n",
    "PosgreSQL accepts the same syntax as sqlite, with exception of a few system commands. Here are the most common:\n",
    "\n",
    "- `\\q`: Quit/Exit\n",
    "- `\\c __database__`: Connect to a database\n",
    "- `\\d __table__`: Show table definition including triggers\n",
    "- `\\dt *.*`: List tables from all schemas (if `*.*` is omitted will only show SEARCH_PATH ones)\n",
    "- `\\l`: List databases\n",
    "- `\\dn`: List schemas\n",
    "- `\\df`: List functions\n",
    "- `\\dv`: List views\n",
    "- `\\dt`: List tables\n",
    "- `\\df+ __function` : Show function SQL code.\n",
    "- `\\x`: Pretty-format query results instead of the not-so-useful ASCII tables\n",
    "\n",
    "\n",
    "Suggestions:\n",
    "- if run with `-E` flag, it will describe the underlaying queries of the `\\` commands (cool for learning!).\n",
    "- Most `\\d` commands support additional param of `__schema__.name__` and accept wildcards like `*.*`"
   ]
  },
  {
   "cell_type": "markdown",
   "metadata": {
    "slideshow": {
     "slide_type": "slide"
    }
   },
   "source": [
    "## Comparison\n",
    "---\n",
    "\n",
    "\n",
    "|Task|MySQL|PostgreSQL|SQLite|\n",
    "|---|---|---|---|\n",
    "|Connect to a database|mysql &lt;dbname&gt;| psql &lt;dbname&gt;|sqlite3 &lt;filename&gt;|\n",
    "|Client help|help contents|\\?|.help|\n",
    "|SQL help|help contents|\\h|n/a|\n",
    "|List databases|SHOW DATABASES;|\\l|.databases|\n",
    "|Change database|USE &lt;dbname&gt;|\\c <dbname&gt;|n/a|\n",
    "|List tables|SHOW TABLES;|\\dt|.tables|\n",
    "|Show table|info DESCRIBE &lt;tablename&gt;|\\d &lt;tablename&gt;|.schema &lt;tablename&gt;|\n",
    "|Load data|LOAD DATA INFILE &lt;file&gt; |\\i &lt;file&gt;|.import &lt;file&gt; &lt;table&gt;|\n",
    "|Export data|SELECT ... INTO OUTFILE &lt;file&gt;|\\o &lt;file&gt;|.dump &lt;table&gt;|\n",
    "|Exit the client|quit (or exit)| \\q|.exit|\n",
    "\n",
    "<a name=\"ind-practice\"></a>"
   ]
  },
  {
   "cell_type": "markdown",
   "metadata": {
    "slideshow": {
     "slide_type": "slide"
    }
   },
   "source": [
    "## Summary\n",
    "---\n",
    "Relational databases are the most common. They organize data into tables. Other database types exist, including graph, hash, documents and time-series specific databases.\n",
    "The simplest local database is _sqlite_ and we learned how to add and remove data from it.\n",
    "We also learnt how to connect to a remote _postgreSQL_ database and few basic _SQL_ commands."
   ]
  },
  {
   "cell_type": "markdown",
   "metadata": {
    "slideshow": {
     "slide_type": "slide"
    }
   },
   "source": [
    "![](https://snag.gy/pz01bd.jpg)"
   ]
  },
  {
   "cell_type": "markdown",
   "metadata": {
    "slideshow": {
     "slide_type": "slide"
    }
   },
   "source": [
    "### ADDITIONAL RESOURCES\n",
    "\n",
    "- [Database page on Wikipedia](https://en.wikipedia.org/wiki/Database)\n",
    "- [Database tutorials](http://www.tutorialspoint.com/database_tutorials.htm)\n",
    "- [Postgres Cheat Sheet](https://gist.github.com/Kartones/dd3ff5ec5ea238d4c546)"
   ]
  },
  {
   "cell_type": "markdown",
   "metadata": {
    "slideshow": {
     "slide_type": "notes"
    }
   },
   "source": [
    "\n",
    "## relational database example\n",
    "\n",
    "Consider the following dataset from Lyft with the follow fields:\n",
    "    - User ID\n",
    "    - User Name\n",
    "    - Driver ID\n",
    "    - Driver Name\n",
    "    - Ride ID\n",
    "    - Ride Time\n",
    "    - Pickup Longitude\n",
    "    - Pickup Latitude\n",
    "    - Pickup Location Entity\n",
    "    - Drop-off Longitude\n",
    "    - Drop-off Latitude\n",
    "    - Drop-off Location Entity\n",
    "    - Miles\n",
    "    - Travel Time\n",
    "    - Fare\n",
    "    - CC Number\n",
    "    \n",
    "    \n",
    "Work in pairs and answer the following questions:\n",
    "\n",
    "- How would you design a relational database to support this data?\n",
    "- List the tables you would create\n",
    "- What fields would they contain?\n",
    "- How would they link to other tables?"
   ]
  },
  {
   "cell_type": "markdown",
   "metadata": {
    "slideshow": {
     "slide_type": "notes"
    }
   },
   "source": [
    "\n",
    "## relational database example\n",
    "> Answer:\n",
    "    Users table:\n",
    "        - User ID\n",
    "        - User Name\n",
    "        - Joined Date\n",
    "        - CC Number\n",
    "\n",
    ">    Drivers table:\n",
    "        - Driver ID\n",
    "        - Driver Name\n",
    "        - Joined Date\n",
    "\n",
    ">    Locations table: Should store popular destinations metadata\n",
    "        - Entity\n",
    "        - Longitude\n",
    "        - Latitude\n",
    "        - Description\n",
    "\n",
    ">    Rides:\n",
    "        - Ride ID\n",
    "        - Ride Time\n",
    "        - User ID (link to users)\n",
    "        - Driver ID (link to drivers)\n",
    "        - Pickup Location Entity (link to locations)\n",
    "        - Drop-off Location Entity (link to locations)\n",
    "        - Miles\n",
    "        - Travel Time\n",
    "        - Fare\n",
    "        - CC Number"
   ]
  }
 ],
 "metadata": {
  "anaconda-cloud": {},
  "celltoolbar": "Slideshow",
  "kernelspec": {
   "display_name": "Python [conda root]",
   "language": "python",
   "name": "conda-root-py"
  },
  "language_info": {
   "codemirror_mode": {
    "name": "ipython",
    "version": 2
   },
   "file_extension": ".py",
   "mimetype": "text/x-python",
   "name": "python",
   "nbconvert_exporter": "python",
   "pygments_lexer": "ipython2",
   "version": "2.7.12"
  }
 },
 "nbformat": 4,
 "nbformat_minor": 0
}
