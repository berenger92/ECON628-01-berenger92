{
 "cells": [
  {
   "cell_type": "markdown",
   "metadata": {},
   "source": [
    "## Supervised Learning - Regression Mega Lab"
   ]
  },
  {
   "cell_type": "code",
   "execution_count": null,
   "metadata": {
    "collapsed": true
   },
   "outputs": [],
   "source": [
    "import numpy as np\n",
    "import pandas as pd\n",
    "\n",
    "from IPython.display import display\n",
    "#http://python.6.x6.nabble.com/IPython-User-ipython-notebook-how-to-display-image-not-from-pylab-td4497427.html\n",
    "\n",
    "# plotting modules\n",
    "import matplotlib.pyplot as plt\n",
    "plt.style.use('fivethirtyeight')\n",
    "import seaborn as sns\n",
    "sns.set(style='whitegrid', context='notebook')\n",
    "\n",
    "# make sure charts appear in the notebook:\n",
    "%matplotlib inline\n",
    "%config InlineBackend.figure_format ='retina'"
   ]
  },
  {
   "cell_type": "code",
   "execution_count": null,
   "metadata": {
    "collapsed": true
   },
   "outputs": [],
   "source": [
    "admissions = pd.read_csv('~/Desktop/USF_ECON628/ECON628-01/datasets/admissions/admissions.csv')               "
   ]
  },
  {
   "cell_type": "code",
   "execution_count": null,
   "metadata": {
    "collapsed": false
   },
   "outputs": [],
   "source": [
    "## Print the first 3 rows in your dataframe\n"
   ]
  },
  {
   "cell_type": "markdown",
   "metadata": {},
   "source": [
    "---\n",
    "\n",
    "### Check for missing values\n",
    "\n",
    "Print the number of rows on the data set\n",
    "\n",
    "Print the total number of missing values\n",
    "\n"
   ]
  },
  {
   "cell_type": "code",
   "execution_count": null,
   "metadata": {
    "collapsed": false
   },
   "outputs": [],
   "source": []
  },
  {
   "cell_type": "code",
   "execution_count": null,
   "metadata": {
    "collapsed": false
   },
   "outputs": [],
   "source": []
  },
  {
   "cell_type": "markdown",
   "metadata": {},
   "source": [
    "---\n",
    "\n",
    "### Check for missing values\n",
    "\n",
    "Using a list comprehension, identify the entries/rows with missing values, to do this you will need the index. \n",
    "\n",
    "Hint:\n",
    "\n",
    "list_miss_val = [row for index, row in admissions.iterrows() .........\n",
    "\n",
    "Then print the list_miss_val list\n",
    "\n",
    "#### Helpful links for List Comprehensions\n",
    "\n",
    "http://stackoverflow.com/questions/16476924/how-to-iterate-over-rows-in-a-dataframe-in-pandas\n",
    "\n",
    "https://www.analyticsvidhya.com/blog/2016/01/python-tutorial-list-comprehension-examples/\n",
    "\n",
    "http://stackoverflow.com/questions/15939811/pandas-list-comprehension-in-a-dataframe"
   ]
  },
  {
   "cell_type": "code",
   "execution_count": null,
   "metadata": {
    "collapsed": false
   },
   "outputs": [],
   "source": [
    "list_miss_val = [..............\n",
    "list_miss_val\n",
    "\n",
    "###  I have left the for loop commands in here so you can see how a the list comprehension works\n",
    "# empty_list =  []\n",
    "# for index, row in admissions.iterrows():\n",
    "#     if row.isnull().sum() > 0:\n",
    "# #         print index, row\n",
    "#         empty_list.append(row)\n",
    "# print empty_list "
   ]
  },
  {
   "cell_type": "markdown",
   "metadata": {},
   "source": [
    "---\n",
    "\n",
    "### Check for missing values\n",
    "\n",
    "Define a function that replaces the missing values with the mean of the column.\n",
    "Hint: data = df.col_name\n",
    "\n",
    "\n",
    "def missing_values(data):\n",
    "\n",
    "    if data.isnull().sum() > ??:\n",
    "    \n",
    "       print \"Number of missing values replaced with mean = \",  data.isnull().sum()\n",
    "       \n",
    "       code here\n",
    "       \n",
    "    elif data.isnull().sum() == ??:\n",
    "    \n",
    "        print \"Number of missing values =  0\"\n"
   ]
  },
  {
   "cell_type": "code",
   "execution_count": null,
   "metadata": {
    "collapsed": false,
    "scrolled": true
   },
   "outputs": [],
   "source": [
    "admissions.isnull().sum()"
   ]
  },
  {
   "cell_type": "code",
   "execution_count": null,
   "metadata": {
    "collapsed": false
   },
   "outputs": [],
   "source": [
    "def missing_values(data):\n",
    "    if data.isnull().sum() > 0:\n",
    "    "
   ]
  },
  {
   "cell_type": "code",
   "execution_count": null,
   "metadata": {
    "collapsed": false
   },
   "outputs": [],
   "source": []
  },
  {
   "cell_type": "code",
   "execution_count": null,
   "metadata": {
    "collapsed": false
   },
   "outputs": [],
   "source": []
  },
  {
   "cell_type": "code",
   "execution_count": null,
   "metadata": {
    "collapsed": false
   },
   "outputs": [],
   "source": []
  },
  {
   "cell_type": "code",
   "execution_count": null,
   "metadata": {
    "collapsed": false
   },
   "outputs": [],
   "source": []
  },
  {
   "cell_type": "code",
   "execution_count": null,
   "metadata": {
    "collapsed": false
   },
   "outputs": [],
   "source": []
  },
  {
   "cell_type": "code",
   "execution_count": null,
   "metadata": {
    "collapsed": false,
    "scrolled": true
   },
   "outputs": [],
   "source": [
    "admissions.shape[0]"
   ]
  },
  {
   "cell_type": "markdown",
   "metadata": {},
   "source": [
    "---\n",
    "\n",
    "### Rapidly Visualize your data\n",
    "Use one line of code\n",
    "Hint: use sns.pairplot\n",
    "http://seaborn.pydata.org/generated/seaborn.pairplot.html"
   ]
  },
  {
   "cell_type": "code",
   "execution_count": null,
   "metadata": {
    "collapsed": false
   },
   "outputs": [],
   "source": [
    "# code here\n",
    "# plt.show()"
   ]
  },
  {
   "cell_type": "markdown",
   "metadata": {},
   "source": [
    "---\n",
    "\n",
    "### Create regression X, y data\n",
    "\n",
    "The regression data will be:\n",
    "\n",
    "    X = [admit, gre, prestige]\n",
    "    y = gpa"
   ]
  },
  {
   "cell_type": "code",
   "execution_count": null,
   "metadata": {
    "collapsed": true
   },
   "outputs": [],
   "source": [
    "X = admissions........\n",
    "y = admissions......."
   ]
  },
  {
   "cell_type": "markdown",
   "metadata": {},
   "source": [
    "---\n",
    "\n",
    "### Standarize your X\n",
    "Remember that normalization is necessary for **regularization** but is **not** for decision trees \n",
    "\n",
    "http://scikit-learn.org/stable/modules/generated/sklearn.preprocessing.StandardScaler.html"
   ]
  },
  {
   "cell_type": "code",
   "execution_count": null,
   "metadata": {
    "collapsed": true
   },
   "outputs": [],
   "source": [
    "from sklearn.preprocessing import StandardScaler\n",
    "ss = StandardScaler() ## We are going to normalize\n",
    "\n",
    "# use the \"fit_transform\" function to normalize the X dmatrix\n",
    "Xn = ss.fit_transform(?)"
   ]
  },
  {
   "cell_type": "markdown",
   "metadata": {},
   "source": [
    "---\n",
    "\n",
    "### Split your data into Train and Test, and check the shapes of your subsets\n",
    "test size = 30% and random_state = 10"
   ]
  },
  {
   "cell_type": "code",
   "execution_count": null,
   "metadata": {
    "collapsed": false
   },
   "outputs": [],
   "source": [
    "from sklearn.cross_validation import train_test_split\n",
    "X_train, X_test, y_train, y_test = train_test_split(?, ?, ?, ?)\n",
    "\n",
    "print X_train.shape, X_test.shape\n",
    "print \"\\n======\\n\"\n",
    "print y_train.shape, y_test.shape"
   ]
  },
  {
   "cell_type": "markdown",
   "metadata": {},
   "source": [
    "---\n",
    "\n",
    "### Initiate a Linear Regression using Skelearn \n"
   ]
  },
  {
   "cell_type": "code",
   "execution_count": null,
   "metadata": {
    "collapsed": false
   },
   "outputs": [],
   "source": [
    "from sklearn.linear_model import LinearRegression\n",
    "\n",
    "## define a linear regression model\n",
    "lr = LinearRegression()\n",
    "\n",
    "## fit your model\n",
    "lr.fit(?, ?)"
   ]
  },
  {
   "cell_type": "markdown",
   "metadata": {},
   "source": [
    "---\n",
    "\n",
    "### Evaluate the performance of your OLS model on the train and on the test set\n"
   ]
  },
  {
   "cell_type": "code",
   "execution_count": null,
   "metadata": {
    "collapsed": true
   },
   "outputs": [],
   "source": [
    "from sklearn.metrics import r2_score\n",
    "from sklearn.metrics import mean_squared_error"
   ]
  },
  {
   "cell_type": "code",
   "execution_count": null,
   "metadata": {
    "collapsed": false
   },
   "outputs": [],
   "source": [
    "''' you can use the code below to evaluate your model or define a function that can do this for you,\n",
    "    I will suggest to define a function so you dont have to type/copy and paste the code below\n",
    "    every time '''\n",
    "# print('MSE - OLS train: %.3f, test: %.3f' % (\n",
    "#         mean_squared_error(ytrain, ytrain_pred),\n",
    "#         mean_squared_error(ytest, ytest_pred)))\n",
    "# print('R^2 0LS train: %.3f, test: %.3f' % (\n",
    "#         r2_score(ytrain, ytrain_pred),\n",
    "#         r2_score(ytest, ytest_pred)))\n"
   ]
  },
  {
   "cell_type": "code",
   "execution_count": null,
   "metadata": {
    "collapsed": true
   },
   "outputs": [],
   "source": [
    "''' Function that calls the MSE and R^2 at once, using the name of the method and calling the best model\n",
    "    fill the ? with the correct var/values'''\n",
    "\n",
    "def rsquare_meansquare_error(train_y, test_y, train_X, test_X, test, best_model):\n",
    "    \"\"\" first we need to predict on the test and train data\"\"\"\n",
    "    y_train_pred = best_model.predict(????)\n",
    "    y_test_pred = best_model.predict(?????)\n",
    "    \n",
    "    \"\"\" We call the MSE in the following lines\"\"\"\n",
    "    print ('MSE ' + test + ' train data: %.2f, test data: %.2f' % (\n",
    "        mean_squared_error(train_?, ?_train_pred),\n",
    "        mean_squared_error(test_?, ?_test_pred)))\n",
    "    \n",
    "    \"\"\" We call the R^2 in the following lines\"\"\"\n",
    "    print('R^2 ' + test + ' train data: %.2f, test data: %.2f' % (\n",
    "        r2_score(train_?, ?_train_pred),\n",
    "        r2_score(test_?, ?_test_pred)))"
   ]
  },
  {
   "cell_type": "code",
   "execution_count": null,
   "metadata": {
    "collapsed": false
   },
   "outputs": [],
   "source": [
    "rsquare_meansquare_error(y_train, y_test, X_train, X_test, \"OLS\", lr)"
   ]
  },
  {
   "cell_type": "markdown",
   "metadata": {},
   "source": [
    "---\n",
    "## Now use regularized methods for regression\n",
    "First implement a **Ridge regression** (the order doesn't really matter)"
   ]
  },
  {
   "cell_type": "code",
   "execution_count": null,
   "metadata": {
    "collapsed": true
   },
   "outputs": [],
   "source": [
    "from sklearn.linear_model import Ridge, Lasso, ElasticNet, RidgeCV, LassoCV, ElasticNetCV"
   ]
  },
  {
   "cell_type": "code",
   "execution_count": null,
   "metadata": {
    "collapsed": false
   },
   "outputs": [],
   "source": [
    "## Find the optimal alpha\n",
    "ridge_alphas = np.logspace(0, 5, 100)\n",
    "optimal_ridge = RidgeCV(alphas=????, cv=10)\n",
    "optimal_ridge.fit(?, ?)\n",
    "    \n",
    "print (optimal_ridge.?)"
   ]
  },
  {
   "cell_type": "code",
   "execution_count": null,
   "metadata": {
    "collapsed": false
   },
   "outputs": [],
   "source": [
    "## Implement the Ridge Regression\n",
    "ridge = Ridge(alpha=?)\n",
    "\n",
    "## Fit the Ridge regression\n",
    "ridge.fit(?, ?)"
   ]
  },
  {
   "cell_type": "code",
   "execution_count": null,
   "metadata": {
    "collapsed": false
   },
   "outputs": [],
   "source": [
    "## Evaluate the Ridge Regression\n",
    "rsquare_meansquare_error(y_train, y_test, X_train, X_test, \"Ridge\", ridge)"
   ]
  },
  {
   "cell_type": "markdown",
   "metadata": {},
   "source": [
    "**Now implement a Lasso Regression**"
   ]
  },
  {
   "cell_type": "code",
   "execution_count": null,
   "metadata": {
    "collapsed": false
   },
   "outputs": [],
   "source": [
    "## Find the optimal alpha\n",
    "optimal_lasso = LassoCV(n_alphas=300, cv=10, verbose=1)\n",
    "optimal_lasso.fit(?, ?)\n",
    "\n",
    "print optimal_lasso.alpha_"
   ]
  },
  {
   "cell_type": "code",
   "execution_count": null,
   "metadata": {
    "collapsed": false
   },
   "outputs": [],
   "source": [
    "## Implement the Lasso Regression\n",
    "lasso = Lasso(alpha=?)\n",
    "\n",
    "## fit your regression\n",
    "lasso.fit(?, ?)"
   ]
  },
  {
   "cell_type": "code",
   "execution_count": null,
   "metadata": {
    "collapsed": false
   },
   "outputs": [],
   "source": [
    "## Evaluate the Lasso Regression\n",
    "rsquare_meansquare_error(y_train, y_test, X_train, X_test, \"Lasso\", lasso)"
   ]
  },
  {
   "cell_type": "markdown",
   "metadata": {},
   "source": [
    "**Now implement Elastic Net Regression**"
   ]
  },
  {
   "cell_type": "code",
   "execution_count": null,
   "metadata": {
    "collapsed": false
   },
   "outputs": [],
   "source": [
    "## Find the optimal alphas\n",
    "l1_ratios = np.linspace(0.01, 1.0, 50)\n",
    "optimal_enet = ElasticNetCV(l1_ratio=l1_ratios, n_alphas=300, cv=5, verbose=1)\n",
    "optimal_enet.fit(?, ?)\n",
    "\n",
    "print optimal_enet.alpha_\n",
    "print optimal_enet.l1_ratio_"
   ]
  },
  {
   "cell_type": "code",
   "execution_count": null,
   "metadata": {
    "collapsed": false
   },
   "outputs": [],
   "source": [
    "##  Create a model Enet\n",
    "enet = ElasticNet(alpha=optimal_enet.alpha_, l1_ratio=optimal_enet.l1_ratio_)\n",
    "\n",
    "## Fit your model\n",
    "enet.fit(?, ?)"
   ]
  },
  {
   "cell_type": "code",
   "execution_count": null,
   "metadata": {
    "collapsed": false
   },
   "outputs": [],
   "source": [
    "## Evaluate the Elastic Net Regression\n",
    "rsquare_meansquare_error(y_train, y_test, X_train, X_test, \"Elastic Net\", enet)"
   ]
  },
  {
   "cell_type": "markdown",
   "metadata": {},
   "source": [
    "---\n",
    "## Which Regularization regressor perform the best?\n",
    "## Print the coefficients\n"
   ]
  },
  {
   "cell_type": "code",
   "execution_count": null,
   "metadata": {
    "collapsed": true
   },
   "outputs": [],
   "source": [
    "''' Here I am defining a function to print the coefficients, their absolute values and the non-absolute values'''\n",
    "\n",
    "def best_reg_method(X, best_regulari):\n",
    "    method_coefs = pd.DataFrame({'variable':X.columns, \n",
    "                                 'coef':best_regulari.coef_, \n",
    "                                 'abs_coef':np.abs(best_regulari.coef_)})\n",
    "    method_coefs.sort_values('abs_coef', inplace=True, ascending=False)\n",
    "    \n",
    "    '''you can change the number inside head to display more or less variables'''\n",
    "    return method_coefs.head(10)\n",
    "    "
   ]
  },
  {
   "cell_type": "code",
   "execution_count": null,
   "metadata": {
    "collapsed": false
   },
   "outputs": [],
   "source": [
    "best_reg_method(X, lasso)"
   ]
  },
  {
   "cell_type": "markdown",
   "metadata": {},
   "source": [
    "---\n",
    "## Now implement a Regression Tree\n",
    "Include a gridsearch and crossvalidate your results 5 times cv=5"
   ]
  },
  {
   "cell_type": "code",
   "execution_count": null,
   "metadata": {
    "collapsed": false
   },
   "outputs": [],
   "source": [
    "from sklearn.tree import DecisionTreeRegressor\n",
    "dtr = DecisionTreeRegressor()\n",
    "\n",
    "## Here is the gridsearch you can manipulate these values\n",
    "params = {\"max_depth\": [3,5,10,20],\n",
    "          \"max_features\": [None, \"auto\"],\n",
    "          \"min_samples_leaf\": [1, 3, 5, 7, 10],\n",
    "          \"min_samples_split\": [2, 5, 7],\n",
    "           \"criterion\" : ['mse']\n",
    "         }\n",
    "\n",
    "# ## Here crossvalidate \n",
    "from sklearn.grid_search import GridSearchCV\n",
    "dtr_gs = GridSearchCV(dtr, params, n_jobs=-1, cv=?, verbose=1)"
   ]
  },
  {
   "cell_type": "code",
   "execution_count": null,
   "metadata": {
    "collapsed": false
   },
   "outputs": [],
   "source": [
    "## Fit the regresion tree\n",
    "dtr_gs.fit(?, ?)"
   ]
  },
  {
   "cell_type": "code",
   "execution_count": null,
   "metadata": {
    "collapsed": false
   },
   "outputs": [],
   "source": [
    "## Print Best Estimator, parameters and score\n",
    "''' dtr_best = is the regression tree regressor with best parameters/estimators'''\n",
    "dtr_best = dtr_gs.best_estimator_ \n",
    "\n",
    "print \"best estimator\", dtr_best\n",
    "print \"\\n==========\\n\"\n",
    "print \"best parameters\",  dtr_gs.?\n",
    "print \"\\n==========\\n\"\n",
    "print \"best score\", dtr_gs.?"
   ]
  },
  {
   "cell_type": "code",
   "execution_count": null,
   "metadata": {
    "collapsed": true
   },
   "outputs": [],
   "source": [
    "## Print the features that best explain your Y\n",
    "''' Here I am defining a function to print feature importance using best models'''\n",
    "def feature_importance(X, best_model):\n",
    "    feature_importance = pd.DataFrame({'feature':X.columns, 'importance':best_model.feature_importances_})\n",
    "    feature_importance.sort_values('importance', ascending=False, inplace=True)\n",
    "    return feature_importance  "
   ]
  },
  {
   "cell_type": "code",
   "execution_count": null,
   "metadata": {
    "collapsed": false
   },
   "outputs": [],
   "source": [
    "feature_importance(X, dtr_best)"
   ]
  },
  {
   "cell_type": "code",
   "execution_count": null,
   "metadata": {
    "collapsed": false
   },
   "outputs": [],
   "source": [
    "## Predict \n",
    "y_pred_dtr= dtr_best.predict(?)\n",
    "y_pred_dtr"
   ]
  },
  {
   "cell_type": "code",
   "execution_count": null,
   "metadata": {
    "collapsed": false
   },
   "outputs": [],
   "source": [
    "## Evaluate the Regression Tree performance on your train and test data\n",
    "rsquare_meansquare_error(y_train, y_test, X_train, X_test, \"Regression tree\", dtr_best)"
   ]
  },
  {
   "cell_type": "code",
   "execution_count": null,
   "metadata": {
    "collapsed": true
   },
   "outputs": [],
   "source": [
    "## Visualize your tree\n",
    "from sklearn.externals.six import StringIO  \n",
    "from IPython.display import Image  \n",
    "from sklearn.tree import export_graphviz\n",
    "import pydotplus\n",
    "import pydot"
   ]
  },
  {
   "cell_type": "code",
   "execution_count": null,
   "metadata": {
    "collapsed": false
   },
   "outputs": [],
   "source": [
    "dot_data = StringIO()\n",
    "''' dtr_best was previously defined'''\n",
    "\n",
    "## Graph\n",
    "export_graphviz(dtr_best, out_file=dot_data,  \n",
    "                filled=True, rounded=True,\n",
    "                special_characters=True,\n",
    "                feature_names=X.columns)  \n",
    "\n",
    "graph = pydotplus.graph_from_dot_data(dot_data.getvalue())  \n",
    "Image(graph.create_png())  "
   ]
  },
  {
   "cell_type": "markdown",
   "metadata": {},
   "source": [
    "---\n",
    "## Now implement a Random Forest Regression Tree\n",
    "Include a gridsearch and cv=5"
   ]
  },
  {
   "cell_type": "code",
   "execution_count": null,
   "metadata": {
    "collapsed": true
   },
   "outputs": [],
   "source": [
    "from sklearn.ensemble import RandomForestRegressor\n",
    "forest = RandomForestRegressor( )\n",
    "\n",
    "params = {'max_depth':[3,4,5],  \n",
    "          'max_leaf_nodes':[5,6,7], \n",
    "          'min_samples_split':[3,4],\n",
    "          'n_estimators': [100]\n",
    "         }\n",
    "\n",
    "estimator_rfr = GridSearchCV(?, ?, n_jobs=-1,  cv=?, verbose=1)"
   ]
  },
  {
   "cell_type": "code",
   "execution_count": null,
   "metadata": {
    "collapsed": false,
    "scrolled": false
   },
   "outputs": [],
   "source": [
    "## Fit your random forest tree\n",
    "estimator_rfr.fit(?, ?)"
   ]
  },
  {
   "cell_type": "code",
   "execution_count": null,
   "metadata": {
    "collapsed": false
   },
   "outputs": [],
   "source": [
    "## Print the best estimator, parameters and score\n",
    "''' rfr_best = is the random forest regression tree regressor with best parameters/estimators'''\n",
    "rfr_best = estimator_rfr.?\n",
    "\n",
    "print \"best estimator\", rfr_best\n",
    "print \"\\n==========\\n\"\n",
    "print \"best parameters\", estimator_rfr.?\n",
    "print \"\\n==========\\n\"\n",
    "print \"best score\", estimator_rfr.?"
   ]
  },
  {
   "cell_type": "code",
   "execution_count": null,
   "metadata": {
    "collapsed": false
   },
   "outputs": [],
   "source": [
    "## Print the feauure importance\n",
    "feature_importance(X, rfr_best)"
   ]
  },
  {
   "cell_type": "code",
   "execution_count": null,
   "metadata": {
    "collapsed": false
   },
   "outputs": [],
   "source": [
    "## Predict\n",
    "y_pred_rfdtr= rfr_best.predict(?)\n",
    "y_pred_rfdtr"
   ]
  },
  {
   "cell_type": "code",
   "execution_count": null,
   "metadata": {
    "collapsed": false
   },
   "outputs": [],
   "source": [
    "## Evaluate your model\n",
    "rsquare_meansquare_error(y_train, y_test, X_train, X_test, \"Random Forest Regression tree\", rfr_best)"
   ]
  }
 ],
 "metadata": {
  "anaconda-cloud": {},
  "kernelspec": {
   "display_name": "Python [conda root]",
   "language": "python",
   "name": "conda-root-py"
  },
  "language_info": {
   "codemirror_mode": {
    "name": "ipython",
    "version": 2
   },
   "file_extension": ".py",
   "mimetype": "text/x-python",
   "name": "python",
   "nbconvert_exporter": "python",
   "pygments_lexer": "ipython2",
   "version": "2.7.12"
  }
 },
 "nbformat": 4,
 "nbformat_minor": 0
}
