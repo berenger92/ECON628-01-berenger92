{
 "cells": [
  {
   "cell_type": "markdown",
   "metadata": {
    "slideshow": {
     "slide_type": "slide"
    }
   },
   "source": [
    "<img src=\"https://images.efollett.com/htmlroot/images/templates/storeLogos/CA/864.gif\" style=\"float: right;\"> \n",
    "\n",
    "\n",
    "\n",
    "\n",
    "# ECON628-01 \n",
    "### Lecture 1.1 - ML, Dev Econ and Policy\n",
    "\n",
    "Lesson notes adapted from:\n",
    "- Sendhil Mullainathan, Harvard, ML and Public Policy.\n",
    "- James Hays, Brown University. "
   ]
  },
  {
   "cell_type": "markdown",
   "metadata": {},
   "source": [
    "### Machine Learning -  Revision \n",
    "---\n",
    "- Like human learning from past experiences\n",
    "- A computer does not have **experiences**\n",
    "- A computer system learns from data, which represent some **past experiences** of an application domain. \n",
    "- Our focus: learn a target function that can be used to predict the values of a discrete class attribute, e.g., approve or not-approved, and high-risk or low risk => Supervised learning, classification, or inductive learning. \n",
    "\n",
    "- Our focus: find patterns on data so we can group them together and draw conclusions from it => Unsupervised Learning."
   ]
  },
  {
   "cell_type": "markdown",
   "metadata": {
    "slideshow": {
     "slide_type": "slide"
    }
   },
   "source": [
    "### Machine Learning -  Revision \n",
    "---\n",
    "* Machine Learning is concerned with **prediction** period!!\n",
    "* Machine Learning is an **extremely** ramp up version of correlation but **NO** causation\n",
    "* Sure => ML useful for engineering but in social science and policy we care about Causality\n",
    "    * ML to has an amazing predictive power but doesn't warranty causal effect\n",
    "* The ML methods we are learning are trying to simulate the predictions **but** we are using **toy, small** datasets\n",
    "* Currently the problem of ML in Social Science is **adoption** of ML methods to aid policy makers\n",
    "* Policy evaluation revolutions:\n",
    "    * RCT\n",
    "    * Behavioral Economics (NUDGE)\n",
    "    * Is ML the new revolution?"
   ]
  },
  {
   "cell_type": "markdown",
   "metadata": {
    "slideshow": {
     "slide_type": "slide"
    }
   },
   "source": [
    "### Machine Learning - Revision\n",
    "---\n",
    "* Here is an image classification example using ML\n",
    "* ML and Big Data arose together (more images = higher prob of correct classifications => Google image classification = thousands and thousands of pictures)\n",
    "![](https://snag.gy/G9O6Yr.jpg)\n",
    "*Image by Sendhil Mullainathan*"
   ]
  },
  {
   "cell_type": "markdown",
   "metadata": {
    "slideshow": {
     "slide_type": "slide"
    }
   },
   "source": [
    "### Machine Learning - Revision \n",
    "---\n",
    "* **\"The things that we do so easily, we don't really know how to do it\"**  - Sendhil Mullainathan => Humans\n",
    "* Remember the examples presented on previous lectures (**magic tricks**):\n",
    "    * Speech Recognition => NLP, Neural Networks (Alexa, Siri)\n",
    "    * Autonomous cars => Neural Networks (Ford, Google, Uber)\n",
    "    * Fraud Detection => Classification (Banks)\n",
    "    * Personalized ads => Recommenders (Netflix, Amazon, Stich FIx)\n",
    "    * Face/image recognition => Survellience systems, social networks, farming, poverty alleviation"
   ]
  },
  {
   "cell_type": "markdown",
   "metadata": {
    "slideshow": {
     "slide_type": "slide"
    }
   },
   "source": [
    "### Machine Learning - Revision\n",
    "---\n",
    "* Your objective should be to make an empirical exercise of these **magic tricks** => Collect Data\n",
    "* Using ML turn any \"intelligence\" task into an **empirical learning task**\n",
    "$~$\n",
    "    * Specify what do you want to predict =>  $Y$ = \\{0,1\\} =>  in NLP (is this a positive or negative sentiment?)\n",
    "    * Specify what is used to predict it => $X$ = \\{0,1\\}$^k$ => word vector\n",
    "    \n"
   ]
  },
  {
   "cell_type": "markdown",
   "metadata": {
    "slideshow": {
     "slide_type": "slide"
    }
   },
   "source": [
    "### Machine Learning - Revision\n",
    "---\n",
    "| **ESTIMATION**   |      **MACHINE LEARNING**     | \n",
    "|:----------:|:-------------:|\n",
    "| Fit $Y$ with $X$ |  Fit $Y$ with $X$ **out of sample** (evaluate on a period which is different from the one you optimized the strategy on) | \n",
    "|Low dimensionality | High dimensionality |\n",
    "|Makes a formal judgment or decision between variables | Doesn't make a judgment\n",
    "|Confidence intervals around coefficients | Arbitrary choices to deal with covariance|\n",
    "|Strict assumptions about data generating methods | Allows for flexible functional forms|\n",
    "|Concern with the $β_s$ | Concern with getting individual predictions|\n",
    " "
   ]
  },
  {
   "cell_type": "markdown",
   "metadata": {
    "slideshow": {
     "slide_type": "slide"
    }
   },
   "source": [
    "### Machine Learning - Dev Economics can they work together?\n",
    "---\n",
    "* So *you* can label a photo...... but what about this picture?\n",
    "* Satellite photo of part of Asia......but the black area is?? North Korea\n",
    "$~$\n",
    "![](https://snag.gy/Ynhg8B.jpg)\n"
   ]
  },
  {
   "cell_type": "markdown",
   "metadata": {
    "slideshow": {
     "slide_type": "slide"
    }
   },
   "source": [
    "### Machine Learning - Dev Econ - Using/generating new data\n",
    "---\n",
    "* Generate **new data** at a fundamental level = > if you analyze satellite data with the same ML techiques used to classify the Google images one can possibly arrive to the following conclusions: \n",
    "    * There is an strong relation between luminosity and income levels\n",
    "    \n",
    "* We can begin to see the benefits of ML as in Economics **measurement** has always played a central role\n",
    "![](https://snag.gy/cwpIgZ.jpg)\n",
    "*Image from Xie et. al. (2016), Combining satellite imagery and machine learning to predict poverty*"
   ]
  },
  {
   "cell_type": "markdown",
   "metadata": {
    "slideshow": {
     "slide_type": "subslide"
    }
   },
   "source": [
    "### Machine Learning - Dev Econ - Using/generating new data\n",
    "** Predicting poverty and wealth from mobile phone metadata** \n",
    "* Metada (a set of data that describes and gives information about other data)\n",
    "* Classifier Evaluation => more on this later\n",
    "![](https://snag.gy/mnr7Sl.jpg)\n",
    "*Image from Blumenstock et.al. (2015)*"
   ]
  },
  {
   "cell_type": "markdown",
   "metadata": {
    "slideshow": {
     "slide_type": "subslide"
    }
   },
   "source": [
    "### Machine Learning - Dev Econ - Using/generating new data\n",
    "---\n",
    "** Predicting poverty and wealth from mobile phone metadata**\n",
    "![](https://snag.gy/BO3k0L.jpg)\n",
    "*Image from Blumenstock et.al. (2015)*"
   ]
  },
  {
   "cell_type": "markdown",
   "metadata": {
    "slideshow": {
     "slide_type": "slide"
    }
   },
   "source": [
    "### Machine Learning - Predictions in Policy\n",
    "---\n",
    "* Can prediction be directly useful in policy?\n",
    "    * ML can't offer policy solutions\n",
    "* Policy **decisions** are causal by nature:\n",
    "    * Should we do Policy $X$ => is equivalent to => What would $X$ do? => is equivalent to => What would happen with and without $X$\n",
    "    \n",
    "* Decisions seem inherently causal (here are 2 examples):\n",
    "\n",
    "    a. You are the head of a country that is facing a severe drought\n",
    "        - One of your employees offers you to do a rain dance, should you hire him/her or not to do the dance?\n",
    "    \n",
    "    b. You are the head of a country, one morning before you go to work you ask yourself?\n",
    "        - Should I bring/carry my umbrella with me, is it going to rain, is the umbrella is bulky\n"
   ]
  },
  {
   "cell_type": "markdown",
   "metadata": {
    "slideshow": {
     "slide_type": "slide"
    }
   },
   "source": [
    "### Machine Learning - Predictions in Policy\n",
    "---\n",
    "* These two escenarios are decisions that include payoffs\n",
    "* Both rely on data \n",
    "    * $Y$ = rain, and $X$ = variables that are correlated with rain\n",
    "* In both escenarios we want to estimate a function of the form $y$ = $f$\\($x$\\)\n",
    "* But there is an stark difference between them:\n",
    "    * Rain Dance => **_Causation_** $\\hat β$ \n",
    "    * Umbrella => **_Prediction_** $\\hat y$ carring the umbrella has no effect on the rain, but rather you are trying to predict the rain (yes/no)\n"
   ]
  },
  {
   "cell_type": "markdown",
   "metadata": {
    "slideshow": {
     "slide_type": "subslide"
    }
   },
   "source": [
    "### Machine Learning - Prediction and Causation\n",
    "---\n",
    "* Graphically \n",
    "![](https://snag.gy/PJLNbT.jpg)\n",
    "*Image from Sendhil Mullainathan*"
   ]
  },
  {
   "cell_type": "markdown",
   "metadata": {
    "slideshow": {
     "slide_type": "slide"
    }
   },
   "source": [
    "### Machine Learning - Prediction and Causation\n",
    "---\n",
    "* Formally, let $Y$ be any outcome variable (in this case rain), that depends in an **unknow** way on a set of variables $X_0$ and $X$\n",
    "* The policymaker has to decide on $X_0$ (i.e. umbrella or rain dance) in order to maximize a (known) payoff function called it $\\pi$\\($X_0$, $Y$ \\)\n",
    "* The decision on the $X_0$ depends on the derivative:\n",
    "$$\\frac {d\\pi(X_0,Y)}{dX_0} =  \\frac{\\partial \\pi}{\\partial X_0}(Y)  + \\frac{\\partial \\pi}{\\partial Y}\n",
    "\\frac{\\partial Y}{\\partial X_0}$$\n",
    "$~$\n",
    "* Where $(Y)$ is **prediction** and $\\frac{\\partial Y}{\\partial X_0}$ is **causation**\n",
    "$~$\n",
    "* The 2 unknowns in the equation $\\frac{\\partial Y}{\\partial X_0}$ and $\\frac{\\partial \\pi}{\\partial X_0}$ can be estimated with empirical work\n",
    "$~$\n",
    "* To estimate $\\frac{\\partial Y}{\\partial X_0}$ requires causal inference => how much does $X_0$ affect $Y$?\n",
    "$~$\n",
    "* The term $\\frac{\\partial \\pi}{\\partial X_0}$ requires a prediction $Y$\n",
    "$~$\n",
    "* We know how much utility umbrellas provide only once we know the level of rain\n",
    "\n",
    "\n",
    "\n",
    "\n"
   ]
  },
  {
   "cell_type": "markdown",
   "metadata": {
    "slideshow": {
     "slide_type": "subslide"
    }
   },
   "source": [
    "### Machine Learning - Prediction and Causation\n",
    "---\n",
    "* So, to choose $X_0$ (umbrella or rain dance) requires solving causation and prediction\n",
    "* If you place an exclusion restriction only one of the problems remains (causation or prediction)\n",
    "* Rain dances are purely causal inference problem, meaning **rain dances** have no direct effect on payoffs $\\frac{\\partial \\pi}{\\partial X_0} = 0$ \n",
    "$~$\n",
    "* Umbrella are **pure prediction** problems since umbrellas have no direct effect on rain $\\frac{\\partial Y}{\\partial X_0} = 0$\n",
    "$~$\n",
    "* The derivate demonstrates 2 key features of prediction problems:\n",
    "    * We need prediction because of $\\frac{\\partial Y}{\\partial X_0}$ depends on $Y$\n",
    "    * Only $\\hat Y$ enters the decision, prediction problems **only** require low error in $\\hat Y$ (cost/loss function), they don't require coefficients to be unbiased or causal. \n",
    "    "
   ]
  },
  {
   "cell_type": "markdown",
   "metadata": {
    "slideshow": {
     "slide_type": "slide"
    }
   },
   "source": [
    "### Machine Learning - Real Umbrella Problems?\n",
    "---\n",
    "* Prediction methods (ML) are not trying to predict the macro econommy, at least until now (using the idea of having large sample of images (millions and millions), we don't have (millions and millions of macro economies) thus we can't predict at the macro level.\n",
    "* On the other hand addressing the issue of individuals who are arrested:\n",
    "    * Each year the police make more than 12 millions arrests:\n",
    "    * A judge _decides_ where he/she is going to wait for **trial** and not on the individuals guilt\n",
    "    $~$\n",
    "    * Release vs. detain high stakes => Pre-trial detention avg 2 - 3 months to up to 9 - 12 months\n",
    "    * In the U.S. approx. 750,000 people in jails (jail =  place where you wait for trail, prison = place you go once found guilty)\n",
    "* Here the judge decides wheter to release or not the individual (bail)\n",
    "    * But... defendant when out on bail can **a)** Fail to appear at case and **b)** Commit a crime\n",
    "    * In here the judge is making a prediction\n",
    "    \n"
   ]
  },
  {
   "cell_type": "markdown",
   "metadata": {
    "slideshow": {
     "slide_type": "slide"
    }
   },
   "source": [
    "### Machine Learning - Human Decisions and Machine Predictions\n",
    "---\n",
    "* $X$ axis release rate (0-1) algorithm's prediction (most risky people on the right), and $Y$ axis (crime rates 0 - 0.3) (Mullainathan et. al. 2017)\n",
    "* On average judges release 61% of people which means 18.7% of crime rate, what if the algorithm releases 61% it predicts a crime rate of 14.5%\n",
    "* Education => predicting which teacher will have the greatest value added (Rockoff et al. 2011)\n",
    "* Labor market policy, predicting unemployment spell length to help workers decide on savings rates and job search strategies\n",
    "* Regulation, targeting health inspections (Kang et al. 2013)\n",
    "* Social policy, predicting highest risk youth for targeting interventions (Chandler, Levitt, and List 2011)\n",
    "* Finance sector, lenders identifying the underlying credit-worthiness of potential borrowers\n",
    "* This is a great article from the [Economist] [1] **Machine learning Of prediction and policy** \n",
    "[1]: http://www.economist.com/news/finance-and-economics/21705329-governments-have-much-gain-applying-algorithms-public-policy \"Economist\"\n"
   ]
  },
  {
   "cell_type": "markdown",
   "metadata": {
    "slideshow": {
     "slide_type": "slide"
    }
   },
   "source": [
    "### Machine Learning - Revision \n",
    "---\n",
    "* Survey data **we** decide what variables to collect\n",
    "* In ML the data we get is not decided by us, is part of the administrative records (satelite, cell phones) => more of our daily routines are being digitized.\n",
    "* So this new data point can help us improve the previously selected set of vars"
   ]
  },
  {
   "cell_type": "markdown",
   "metadata": {
    "slideshow": {
     "slide_type": "slide"
    }
   },
   "source": [
    "### Machine Learning - Revision \n",
    "---\n",
    "* **Undergitting** = high bias vs **Overfitting** = high variance\n",
    "\n",
    "![](https://snag.gy/Pxk5po.jpg)\n",
    "*Image by James Hays, Brown University*"
   ]
  },
  {
   "cell_type": "markdown",
   "metadata": {
    "slideshow": {
     "slide_type": "slide"
    }
   },
   "source": [
    "### Machine Learning - Revision \n",
    "---\n",
    "1. **Supervised Learning methods** => problem when there is a target variable (continuos or discrete) that we want to predict or classify data into.\n",
    "2. **Unsupervised Learning methods** => problem where there does not exist a taget variable that we want to predict but we want to understand _natural_ grouping patterns in the data.\n",
    "\n",
    "**_Supervision_** in this escenario there is a presence of target variables, all the data points have labels (labels) \n",
    "\n",
    "**_Unsupervised_** = none of the data points have labels. \n",
    "![](https://snag.gy/VxatyS.jpg)\n",
    "*Image by James Hays, Brown University*"
   ]
  },
  {
   "cell_type": "markdown",
   "metadata": {},
   "source": [
    "### Machine Learning - Revision \n",
    "---\n",
    "\n",
    "#### Classification  \n",
    "    - predicts categorical class labels (discrete or nominal)\n",
    "    - classifies data (constructs a model) based on the training set and the values (class labels) in a classifying attribute and uses it to classify\n",
    "    new data\n",
    "\n",
    "#### Prediction  \n",
    "    - models continuous-valued functions, i.e., predicts unknown or missing values \n",
    "\n",
    "Typical applications\n",
    "- Credit approval\n",
    "- Target marketing\n",
    "- Medical diagnosis\n",
    "- Fraud detection\n",
    "\n"
   ]
  },
  {
   "cell_type": "code",
   "execution_count": null,
   "metadata": {
    "collapsed": true
   },
   "outputs": [],
   "source": []
  }
 ],
 "metadata": {
  "anaconda-cloud": {},
  "celltoolbar": "Slideshow",
  "kernelspec": {
   "display_name": "Python [conda root]",
   "language": "python",
   "name": "conda-root-py"
  },
  "language_info": {
   "codemirror_mode": {
    "name": "ipython",
    "version": 2
   },
   "file_extension": ".py",
   "mimetype": "text/x-python",
   "name": "python",
   "nbconvert_exporter": "python",
   "pygments_lexer": "ipython2",
   "version": "2.7.12"
  }
 },
 "nbformat": 4,
 "nbformat_minor": 0
}
