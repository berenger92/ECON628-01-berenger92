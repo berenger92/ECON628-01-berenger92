{
 "cells": [
  {
   "cell_type": "markdown",
   "metadata": {},
   "source": [
    "<img src=\"https://images.efollett.com/htmlroot/images/templates/storeLogos/CA/864.gif\" style=\"float: right;\"> \n",
    "\n",
    "\n",
    "\n",
    "\n",
    "# ECON628-01 \n",
    "### Lecture 1.2 - Classification with Logistic Regression and Evaluation Lab"
   ]
  },
  {
   "cell_type": "markdown",
   "metadata": {},
   "source": [
    "## 1. Load affairs dataset\n",
    "---\n",
    "In this lab you will be using the data from the paper [A Theory of Extramarital Affairs] [1]. Here is the [link] [2] to the data dictionary\n",
    "[1]: https://fairmodel.econ.yale.edu/rayfair/pdf/1978A200.PDF \"A Theory of Extramarital Affairs\"\n",
    "\n",
    "[2]: https://vincentarelbundock.github.io/Rdatasets/doc/Ecdat/Fair.html \"link\""
   ]
  },
  {
   "cell_type": "code",
   "execution_count": 1,
   "metadata": {
    "collapsed": true
   },
   "outputs": [],
   "source": [
    "import matplotlib.pyplot as plt\n",
    "import numpy as np\n",
    "import pandas as pd\n",
    "\n",
    "import seaborn as sns\n",
    "\n",
    "plt.style.use('fivethirtyeight')\n",
    "\n",
    "%matplotlib inline\n",
    "%config InlineBackend.figure_format = 'retina'"
   ]
  },
  {
   "cell_type": "code",
   "execution_count": 2,
   "metadata": {
    "collapsed": false
   },
   "outputs": [],
   "source": [
    "affair_path = ('C:/Users/mjors_000/Desktop/ECON628-01-berenger92/datasets/affairs/affair.csv')\n",
    "affair=pd.read_csv(affair_path)\n"
   ]
  },
  {
   "cell_type": "code",
   "execution_count": 4,
   "metadata": {
    "collapsed": false
   },
   "outputs": [
    {
     "name": "stdout",
     "output_type": "stream",
     "text": [
      "   Unnamed: 0     sex   age    ym child  religious  education  occupation  \\\n",
      "0           1    male  37.0  10.0    no          3         18           7   \n",
      "1           2  female  27.0   4.0    no          4         14           6   \n",
      "\n",
      "   rate  nbaffairs  \n",
      "0     4          0  \n",
      "1     4          0  \n"
     ]
    }
   ],
   "source": [
    "print affair.head(2)"
   ]
  },
  {
   "cell_type": "code",
   "execution_count": 6,
   "metadata": {
    "collapsed": false
   },
   "outputs": [
    {
     "data": {
      "text/html": [
       "<div>\n",
       "<table border=\"1\" class=\"dataframe\">\n",
       "  <thead>\n",
       "    <tr style=\"text-align: right;\">\n",
       "      <th></th>\n",
       "      <th>count</th>\n",
       "      <th>mean</th>\n",
       "      <th>std</th>\n",
       "      <th>min</th>\n",
       "      <th>25%</th>\n",
       "      <th>50%</th>\n",
       "      <th>75%</th>\n",
       "      <th>max</th>\n",
       "    </tr>\n",
       "  </thead>\n",
       "  <tbody>\n",
       "    <tr>\n",
       "      <th>Unnamed: 0</th>\n",
       "      <td>601.0</td>\n",
       "      <td>301.000000</td>\n",
       "      <td>173.638033</td>\n",
       "      <td>1.000</td>\n",
       "      <td>151.0</td>\n",
       "      <td>301.0</td>\n",
       "      <td>451.0</td>\n",
       "      <td>601.0</td>\n",
       "    </tr>\n",
       "    <tr>\n",
       "      <th>age</th>\n",
       "      <td>601.0</td>\n",
       "      <td>32.487521</td>\n",
       "      <td>9.288762</td>\n",
       "      <td>17.500</td>\n",
       "      <td>27.0</td>\n",
       "      <td>32.0</td>\n",
       "      <td>37.0</td>\n",
       "      <td>57.0</td>\n",
       "    </tr>\n",
       "    <tr>\n",
       "      <th>ym</th>\n",
       "      <td>601.0</td>\n",
       "      <td>8.177696</td>\n",
       "      <td>5.571303</td>\n",
       "      <td>0.125</td>\n",
       "      <td>4.0</td>\n",
       "      <td>7.0</td>\n",
       "      <td>15.0</td>\n",
       "      <td>15.0</td>\n",
       "    </tr>\n",
       "    <tr>\n",
       "      <th>religious</th>\n",
       "      <td>601.0</td>\n",
       "      <td>3.116473</td>\n",
       "      <td>1.167509</td>\n",
       "      <td>1.000</td>\n",
       "      <td>2.0</td>\n",
       "      <td>3.0</td>\n",
       "      <td>4.0</td>\n",
       "      <td>5.0</td>\n",
       "    </tr>\n",
       "    <tr>\n",
       "      <th>education</th>\n",
       "      <td>601.0</td>\n",
       "      <td>16.166389</td>\n",
       "      <td>2.402555</td>\n",
       "      <td>9.000</td>\n",
       "      <td>14.0</td>\n",
       "      <td>16.0</td>\n",
       "      <td>18.0</td>\n",
       "      <td>20.0</td>\n",
       "    </tr>\n",
       "    <tr>\n",
       "      <th>occupation</th>\n",
       "      <td>601.0</td>\n",
       "      <td>4.194676</td>\n",
       "      <td>1.819443</td>\n",
       "      <td>1.000</td>\n",
       "      <td>3.0</td>\n",
       "      <td>5.0</td>\n",
       "      <td>6.0</td>\n",
       "      <td>7.0</td>\n",
       "    </tr>\n",
       "    <tr>\n",
       "      <th>rate</th>\n",
       "      <td>601.0</td>\n",
       "      <td>3.931780</td>\n",
       "      <td>1.103179</td>\n",
       "      <td>1.000</td>\n",
       "      <td>3.0</td>\n",
       "      <td>4.0</td>\n",
       "      <td>5.0</td>\n",
       "      <td>5.0</td>\n",
       "    </tr>\n",
       "    <tr>\n",
       "      <th>nbaffairs</th>\n",
       "      <td>601.0</td>\n",
       "      <td>1.455907</td>\n",
       "      <td>3.298758</td>\n",
       "      <td>0.000</td>\n",
       "      <td>0.0</td>\n",
       "      <td>0.0</td>\n",
       "      <td>0.0</td>\n",
       "      <td>12.0</td>\n",
       "    </tr>\n",
       "  </tbody>\n",
       "</table>\n",
       "</div>"
      ],
      "text/plain": [
       "            count        mean         std     min    25%    50%    75%    max\n",
       "Unnamed: 0  601.0  301.000000  173.638033   1.000  151.0  301.0  451.0  601.0\n",
       "age         601.0   32.487521    9.288762  17.500   27.0   32.0   37.0   57.0\n",
       "ym          601.0    8.177696    5.571303   0.125    4.0    7.0   15.0   15.0\n",
       "religious   601.0    3.116473    1.167509   1.000    2.0    3.0    4.0    5.0\n",
       "education   601.0   16.166389    2.402555   9.000   14.0   16.0   18.0   20.0\n",
       "occupation  601.0    4.194676    1.819443   1.000    3.0    5.0    6.0    7.0\n",
       "rate        601.0    3.931780    1.103179   1.000    3.0    4.0    5.0    5.0\n",
       "nbaffairs   601.0    1.455907    3.298758   0.000    0.0    0.0    0.0   12.0"
      ]
     },
     "execution_count": 6,
     "metadata": {},
     "output_type": "execute_result"
    }
   ],
   "source": [
    "affair.describe().T"
   ]
  },
  {
   "cell_type": "code",
   "execution_count": 8,
   "metadata": {
    "collapsed": false
   },
   "outputs": [
    {
     "name": "stdout",
     "output_type": "stream",
     "text": [
      "<class 'pandas.core.frame.DataFrame'>\n",
      "RangeIndex: 601 entries, 0 to 600\n",
      "Data columns (total 10 columns):\n",
      "Unnamed: 0    601 non-null int64\n",
      "sex           601 non-null object\n",
      "age           601 non-null float64\n",
      "ym            601 non-null float64\n",
      "child         601 non-null object\n",
      "religious     601 non-null int64\n",
      "education     601 non-null int64\n",
      "occupation    601 non-null int64\n",
      "rate          601 non-null int64\n",
      "nbaffairs     601 non-null int64\n",
      "dtypes: float64(2), int64(6), object(2)\n",
      "memory usage: 47.0+ KB\n"
     ]
    }
   ],
   "source": [
    "affair.info()"
   ]
  },
  {
   "cell_type": "code",
   "execution_count": 9,
   "metadata": {
    "collapsed": false
   },
   "outputs": [
    {
     "data": {
      "text/html": [
       "<div>\n",
       "<table border=\"1\" class=\"dataframe\">\n",
       "  <thead>\n",
       "    <tr style=\"text-align: right;\">\n",
       "      <th></th>\n",
       "      <th>Unnamed: 0</th>\n",
       "      <th>age</th>\n",
       "      <th>ym</th>\n",
       "      <th>religious</th>\n",
       "      <th>education</th>\n",
       "      <th>occupation</th>\n",
       "      <th>rate</th>\n",
       "      <th>nbaffairs</th>\n",
       "    </tr>\n",
       "  </thead>\n",
       "  <tbody>\n",
       "    <tr>\n",
       "      <th>Unnamed: 0</th>\n",
       "      <td>1.000000</td>\n",
       "      <td>0.036228</td>\n",
       "      <td>0.107761</td>\n",
       "      <td>-0.116447</td>\n",
       "      <td>-0.053710</td>\n",
       "      <td>-0.069130</td>\n",
       "      <td>-0.195132</td>\n",
       "      <td>0.576919</td>\n",
       "    </tr>\n",
       "    <tr>\n",
       "      <th>age</th>\n",
       "      <td>0.036228</td>\n",
       "      <td>1.000000</td>\n",
       "      <td>0.777546</td>\n",
       "      <td>0.193777</td>\n",
       "      <td>0.134596</td>\n",
       "      <td>0.166413</td>\n",
       "      <td>-0.199000</td>\n",
       "      <td>0.095237</td>\n",
       "    </tr>\n",
       "    <tr>\n",
       "      <th>ym</th>\n",
       "      <td>0.107761</td>\n",
       "      <td>0.777546</td>\n",
       "      <td>1.000000</td>\n",
       "      <td>0.218261</td>\n",
       "      <td>0.040003</td>\n",
       "      <td>0.044592</td>\n",
       "      <td>-0.243119</td>\n",
       "      <td>0.186842</td>\n",
       "    </tr>\n",
       "    <tr>\n",
       "      <th>religious</th>\n",
       "      <td>-0.116447</td>\n",
       "      <td>0.193777</td>\n",
       "      <td>0.218261</td>\n",
       "      <td>1.000000</td>\n",
       "      <td>-0.042571</td>\n",
       "      <td>-0.039722</td>\n",
       "      <td>0.024296</td>\n",
       "      <td>-0.144501</td>\n",
       "    </tr>\n",
       "    <tr>\n",
       "      <th>education</th>\n",
       "      <td>-0.053710</td>\n",
       "      <td>0.134596</td>\n",
       "      <td>0.040003</td>\n",
       "      <td>-0.042571</td>\n",
       "      <td>1.000000</td>\n",
       "      <td>0.533605</td>\n",
       "      <td>0.109303</td>\n",
       "      <td>-0.002437</td>\n",
       "    </tr>\n",
       "    <tr>\n",
       "      <th>occupation</th>\n",
       "      <td>-0.069130</td>\n",
       "      <td>0.166413</td>\n",
       "      <td>0.044592</td>\n",
       "      <td>-0.039722</td>\n",
       "      <td>0.533605</td>\n",
       "      <td>1.000000</td>\n",
       "      <td>0.017422</td>\n",
       "      <td>0.049612</td>\n",
       "    </tr>\n",
       "    <tr>\n",
       "      <th>rate</th>\n",
       "      <td>-0.195132</td>\n",
       "      <td>-0.199000</td>\n",
       "      <td>-0.243119</td>\n",
       "      <td>0.024296</td>\n",
       "      <td>0.109303</td>\n",
       "      <td>0.017422</td>\n",
       "      <td>1.000000</td>\n",
       "      <td>-0.279512</td>\n",
       "    </tr>\n",
       "    <tr>\n",
       "      <th>nbaffairs</th>\n",
       "      <td>0.576919</td>\n",
       "      <td>0.095237</td>\n",
       "      <td>0.186842</td>\n",
       "      <td>-0.144501</td>\n",
       "      <td>-0.002437</td>\n",
       "      <td>0.049612</td>\n",
       "      <td>-0.279512</td>\n",
       "      <td>1.000000</td>\n",
       "    </tr>\n",
       "  </tbody>\n",
       "</table>\n",
       "</div>"
      ],
      "text/plain": [
       "            Unnamed: 0       age        ym  religious  education  occupation  \\\n",
       "Unnamed: 0    1.000000  0.036228  0.107761  -0.116447  -0.053710   -0.069130   \n",
       "age           0.036228  1.000000  0.777546   0.193777   0.134596    0.166413   \n",
       "ym            0.107761  0.777546  1.000000   0.218261   0.040003    0.044592   \n",
       "religious    -0.116447  0.193777  0.218261   1.000000  -0.042571   -0.039722   \n",
       "education    -0.053710  0.134596  0.040003  -0.042571   1.000000    0.533605   \n",
       "occupation   -0.069130  0.166413  0.044592  -0.039722   0.533605    1.000000   \n",
       "rate         -0.195132 -0.199000 -0.243119   0.024296   0.109303    0.017422   \n",
       "nbaffairs     0.576919  0.095237  0.186842  -0.144501  -0.002437    0.049612   \n",
       "\n",
       "                rate  nbaffairs  \n",
       "Unnamed: 0 -0.195132   0.576919  \n",
       "age        -0.199000   0.095237  \n",
       "ym         -0.243119   0.186842  \n",
       "religious   0.024296  -0.144501  \n",
       "education   0.109303  -0.002437  \n",
       "occupation  0.017422   0.049612  \n",
       "rate        1.000000  -0.279512  \n",
       "nbaffairs  -0.279512   1.000000  "
      ]
     },
     "execution_count": 9,
     "metadata": {},
     "output_type": "execute_result"
    }
   ],
   "source": [
    "affair.corr()"
   ]
  },
  {
   "cell_type": "markdown",
   "metadata": {},
   "source": [
    "## 2. Encode nbaffairs as binary to create a 'had_affair' colum\n",
    "---\n",
    "\n",
    "We just want to see if people have had any affair or not."
   ]
  },
  {
   "cell_type": "code",
   "execution_count": 12,
   "metadata": {
    "collapsed": false
   },
   "outputs": [],
   "source": [
    "def binary_affairs(x):\n",
    "    if x==0:\n",
    "        return 0\n",
    "    else:\n",
    "        return 1\n",
    "#Creating another column that will use nbaffairs variable, and map it using the function above\n",
    "affair['had_affair']= affair.nbaffairs.map(binary_affairs)"
   ]
  },
  {
   "cell_type": "code",
   "execution_count": 14,
   "metadata": {
    "collapsed": false
   },
   "outputs": [
    {
     "data": {
      "text/html": [
       "<div>\n",
       "<table border=\"1\" class=\"dataframe\">\n",
       "  <thead>\n",
       "    <tr style=\"text-align: right;\">\n",
       "      <th></th>\n",
       "      <th>Unnamed: 0</th>\n",
       "      <th>sex</th>\n",
       "      <th>age</th>\n",
       "      <th>ym</th>\n",
       "      <th>child</th>\n",
       "      <th>religious</th>\n",
       "      <th>education</th>\n",
       "      <th>occupation</th>\n",
       "      <th>rate</th>\n",
       "      <th>nbaffairs</th>\n",
       "      <th>had affair</th>\n",
       "      <th>had_affair</th>\n",
       "    </tr>\n",
       "  </thead>\n",
       "  <tbody>\n",
       "    <tr>\n",
       "      <th>0</th>\n",
       "      <td>1</td>\n",
       "      <td>male</td>\n",
       "      <td>37.0</td>\n",
       "      <td>10.00</td>\n",
       "      <td>no</td>\n",
       "      <td>3</td>\n",
       "      <td>18</td>\n",
       "      <td>7</td>\n",
       "      <td>4</td>\n",
       "      <td>0</td>\n",
       "      <td>0</td>\n",
       "      <td>0</td>\n",
       "    </tr>\n",
       "    <tr>\n",
       "      <th>1</th>\n",
       "      <td>2</td>\n",
       "      <td>female</td>\n",
       "      <td>27.0</td>\n",
       "      <td>4.00</td>\n",
       "      <td>no</td>\n",
       "      <td>4</td>\n",
       "      <td>14</td>\n",
       "      <td>6</td>\n",
       "      <td>4</td>\n",
       "      <td>0</td>\n",
       "      <td>0</td>\n",
       "      <td>0</td>\n",
       "    </tr>\n",
       "    <tr>\n",
       "      <th>2</th>\n",
       "      <td>3</td>\n",
       "      <td>female</td>\n",
       "      <td>32.0</td>\n",
       "      <td>15.00</td>\n",
       "      <td>yes</td>\n",
       "      <td>1</td>\n",
       "      <td>12</td>\n",
       "      <td>1</td>\n",
       "      <td>4</td>\n",
       "      <td>0</td>\n",
       "      <td>0</td>\n",
       "      <td>0</td>\n",
       "    </tr>\n",
       "    <tr>\n",
       "      <th>3</th>\n",
       "      <td>4</td>\n",
       "      <td>male</td>\n",
       "      <td>57.0</td>\n",
       "      <td>15.00</td>\n",
       "      <td>yes</td>\n",
       "      <td>5</td>\n",
       "      <td>18</td>\n",
       "      <td>6</td>\n",
       "      <td>5</td>\n",
       "      <td>0</td>\n",
       "      <td>0</td>\n",
       "      <td>0</td>\n",
       "    </tr>\n",
       "    <tr>\n",
       "      <th>4</th>\n",
       "      <td>5</td>\n",
       "      <td>male</td>\n",
       "      <td>22.0</td>\n",
       "      <td>0.75</td>\n",
       "      <td>no</td>\n",
       "      <td>2</td>\n",
       "      <td>17</td>\n",
       "      <td>6</td>\n",
       "      <td>3</td>\n",
       "      <td>0</td>\n",
       "      <td>0</td>\n",
       "      <td>0</td>\n",
       "    </tr>\n",
       "  </tbody>\n",
       "</table>\n",
       "</div>"
      ],
      "text/plain": [
       "   Unnamed: 0     sex   age     ym child  religious  education  occupation  \\\n",
       "0           1    male  37.0  10.00    no          3         18           7   \n",
       "1           2  female  27.0   4.00    no          4         14           6   \n",
       "2           3  female  32.0  15.00   yes          1         12           1   \n",
       "3           4    male  57.0  15.00   yes          5         18           6   \n",
       "4           5    male  22.0   0.75    no          2         17           6   \n",
       "\n",
       "   rate  nbaffairs  had affair  had_affair  \n",
       "0     4          0           0           0  \n",
       "1     4          0           0           0  \n",
       "2     4          0           0           0  \n",
       "3     5          0           0           0  \n",
       "4     3          0           0           0  "
      ]
     },
     "execution_count": 14,
     "metadata": {},
     "output_type": "execute_result"
    }
   ],
   "source": [
    "affair.head()"
   ]
  },
  {
   "cell_type": "code",
   "execution_count": null,
   "metadata": {
    "collapsed": false
   },
   "outputs": [],
   "source": []
  },
  {
   "cell_type": "code",
   "execution_count": null,
   "metadata": {
    "collapsed": false
   },
   "outputs": [],
   "source": []
  },
  {
   "cell_type": "markdown",
   "metadata": {},
   "source": [
    "## 3. Create a dummy variables using pd.get_dummies\n",
    "---\n",
    "- affair_dumm = pd.get_dummies(affair)\n",
    "\n",
    "http://pandas.pydata.org/pandas-docs/version/0.17.0/generated/pandas.get_dummies.html"
   ]
  },
  {
   "cell_type": "code",
   "execution_count": 15,
   "metadata": {
    "collapsed": false
   },
   "outputs": [
    {
     "data": {
      "text/html": [
       "<div>\n",
       "<table border=\"1\" class=\"dataframe\">\n",
       "  <thead>\n",
       "    <tr style=\"text-align: right;\">\n",
       "      <th></th>\n",
       "      <th>Unnamed: 0</th>\n",
       "      <th>age</th>\n",
       "      <th>ym</th>\n",
       "      <th>religious</th>\n",
       "      <th>education</th>\n",
       "      <th>occupation</th>\n",
       "      <th>rate</th>\n",
       "      <th>nbaffairs</th>\n",
       "      <th>had affair</th>\n",
       "      <th>had_affair</th>\n",
       "      <th>sex_female</th>\n",
       "      <th>sex_male</th>\n",
       "      <th>child_no</th>\n",
       "      <th>child_yes</th>\n",
       "    </tr>\n",
       "  </thead>\n",
       "  <tbody>\n",
       "    <tr>\n",
       "      <th>0</th>\n",
       "      <td>1</td>\n",
       "      <td>37.0</td>\n",
       "      <td>10.0</td>\n",
       "      <td>3</td>\n",
       "      <td>18</td>\n",
       "      <td>7</td>\n",
       "      <td>4</td>\n",
       "      <td>0</td>\n",
       "      <td>0</td>\n",
       "      <td>0</td>\n",
       "      <td>0</td>\n",
       "      <td>1</td>\n",
       "      <td>1</td>\n",
       "      <td>0</td>\n",
       "    </tr>\n",
       "    <tr>\n",
       "      <th>1</th>\n",
       "      <td>2</td>\n",
       "      <td>27.0</td>\n",
       "      <td>4.0</td>\n",
       "      <td>4</td>\n",
       "      <td>14</td>\n",
       "      <td>6</td>\n",
       "      <td>4</td>\n",
       "      <td>0</td>\n",
       "      <td>0</td>\n",
       "      <td>0</td>\n",
       "      <td>1</td>\n",
       "      <td>0</td>\n",
       "      <td>1</td>\n",
       "      <td>0</td>\n",
       "    </tr>\n",
       "    <tr>\n",
       "      <th>2</th>\n",
       "      <td>3</td>\n",
       "      <td>32.0</td>\n",
       "      <td>15.0</td>\n",
       "      <td>1</td>\n",
       "      <td>12</td>\n",
       "      <td>1</td>\n",
       "      <td>4</td>\n",
       "      <td>0</td>\n",
       "      <td>0</td>\n",
       "      <td>0</td>\n",
       "      <td>1</td>\n",
       "      <td>0</td>\n",
       "      <td>0</td>\n",
       "      <td>1</td>\n",
       "    </tr>\n",
       "    <tr>\n",
       "      <th>3</th>\n",
       "      <td>4</td>\n",
       "      <td>57.0</td>\n",
       "      <td>15.0</td>\n",
       "      <td>5</td>\n",
       "      <td>18</td>\n",
       "      <td>6</td>\n",
       "      <td>5</td>\n",
       "      <td>0</td>\n",
       "      <td>0</td>\n",
       "      <td>0</td>\n",
       "      <td>0</td>\n",
       "      <td>1</td>\n",
       "      <td>0</td>\n",
       "      <td>1</td>\n",
       "    </tr>\n",
       "  </tbody>\n",
       "</table>\n",
       "</div>"
      ],
      "text/plain": [
       "   Unnamed: 0   age    ym  religious  education  occupation  rate  nbaffairs  \\\n",
       "0           1  37.0  10.0          3         18           7     4          0   \n",
       "1           2  27.0   4.0          4         14           6     4          0   \n",
       "2           3  32.0  15.0          1         12           1     4          0   \n",
       "3           4  57.0  15.0          5         18           6     5          0   \n",
       "\n",
       "   had affair  had_affair  sex_female  sex_male  child_no  child_yes  \n",
       "0           0           0           0         1         1          0  \n",
       "1           0           0           1         0         1          0  \n",
       "2           0           0           1         0         0          1  \n",
       "3           0           0           0         1         0          1  "
      ]
     },
     "execution_count": 15,
     "metadata": {},
     "output_type": "execute_result"
    }
   ],
   "source": [
    "affair_dumm = pd.get_dummies(affair)\n",
    "affair_dumm.head(4)"
   ]
  },
  {
   "cell_type": "markdown",
   "metadata": {},
   "source": [
    "## 3. Setup X and Y matrices \n",
    "---"
   ]
  },
  {
   "cell_type": "code",
   "execution_count": 38,
   "metadata": {
    "collapsed": false
   },
   "outputs": [
    {
     "name": "stdout",
     "output_type": "stream",
     "text": [
      "(601, 10)\n",
      "(601L,)\n"
     ]
    }
   ],
   "source": [
    "'''Define y and X'''\n",
    "y = affair_dumm.had_affair.values\n",
    "columns_ = affair_dumm.columns.tolist()\n",
    "exclude_col = ['Unnamed: 0', 'had affair', 'had_affair', 'nbaffairs']\n",
    "\n",
    "X = affair_dumm[[i for i in columns_ if i not in exclude_col]]\n",
    "\n",
    "print (X.shape)\n",
    "print (y.shape)"
   ]
  },
  {
   "cell_type": "markdown",
   "metadata": {},
   "source": [
    "## 4. Define your train and test data\n",
    "---"
   ]
  },
  {
   "cell_type": "code",
   "execution_count": 39,
   "metadata": {
    "collapsed": false
   },
   "outputs": [
    {
     "name": "stdout",
     "output_type": "stream",
     "text": [
      "(420, 10)\n",
      "(420L,)\n",
      "(181, 10)\n",
      "(181L,)\n"
     ]
    }
   ],
   "source": [
    "'''Split the data'''\n",
    "from sklearn.cross_validation import train_test_split\n",
    "\n",
    "X_train, X_test, y_train, y_test = train_test_split(X, y, test_size=0.30, random_state=10)\n",
    "print X_train.shape\n",
    "print y_train.shape\n",
    "print X_test.shape\n",
    "print y_test.shape"
   ]
  },
  {
   "cell_type": "markdown",
   "metadata": {},
   "source": [
    "## 5. Create and gridsearch a logistic regression, fit the regression, find best parameters, and baseline\n",
    "---"
   ]
  },
  {
   "cell_type": "code",
   "execution_count": 40,
   "metadata": {
    "collapsed": false
   },
   "outputs": [],
   "source": [
    "'''Logistic function'''\n",
    "from sklearn.linear_model import LogisticRegression\n",
    "\n",
    "logistic = LogisticRegression()\n",
    "\n",
    "'''set up parameters for the gridsearch I am using all the posible choices read documentation '''\n",
    "## http://scikit-learn.org/stable/modules/generated/sklearn.linear_model.LogisticRegression.html\n",
    "Cs = np.logspace(0.0, 5.0, 20)\n",
    "\n",
    "#WE ARE CREATING A DICTIONNARY THAT WILL FIND THE BEST MODEL FOR THE METHOD YOU CHOOSE (LASSO, RIDGE, ELAS..)\n",
    "search_parameters = {\n",
    "                    \"penalty\": ['l1','l2'],   \n",
    "                    # Used to specify the norm used in the penalization.\n",
    "                    \n",
    "                    \"C\": Cs,  #Find the lambda value\n",
    "                    # Regularization paramter\n",
    "                    # \"dual\":[True, False], # Dual or primal formulation. Dual formulation is only implemented for l2 \n",
    "                    # penalty with liblinear solver. Prefer dual=False when n_samples > n_features\n",
    "                    \n",
    "                    \"fit_intercept\": [False, True], \n",
    "                    # Specifies if a constant (a.k.a. bias or intercept) should be added to the decision function.\n",
    "                    \n",
    "                    \"class_weight\": [None, \"balanced\"], \n",
    "                    # The “balanced” mode uses the values of y to automatically adjust weights inversely \n",
    "                    # proportional to class frequencies in the input data as n_samples / (n_classes * np.bincount(y))\n",
    "                    \n",
    "                    \"intercept_scaling\": [2, 1], \n",
    "                    # Useful only if solver is liblinear. when self.fit_intercept is True, instance vector x becomes \n",
    "                    # [x, self.intercept_scaling], i.e. a “synthetic” feature with constant value equals to intercept_scaling \n",
    "                    # is appended to the instance vector. \n",
    "                    \n",
    "                    \"solver\":  ['liblinear']\n",
    " \n",
    "}\n",
    "\n",
    "'''Gridsearch your parameters''' #This is used to cross validate your findings in different sets of data\n",
    "\n",
    "from sklearn.grid_search import GridSearchCV\n",
    "\n",
    "## http://scikit-learn.org/stable/modules/generated/sklearn.model_selection.GridSearchCV.html\n",
    "estimator = GridSearchCV(logistic, search_parameters, cv=5, verbose=1, n_jobs=-1)"
   ]
  },
  {
   "cell_type": "code",
   "execution_count": 41,
   "metadata": {
    "collapsed": false
   },
   "outputs": [
    {
     "name": "stdout",
     "output_type": "stream",
     "text": [
      "Fitting 5 folds for each of 320 candidates, totalling 1600 fits\n"
     ]
    },
    {
     "name": "stderr",
     "output_type": "stream",
     "text": [
      "[Parallel(n_jobs=-1)]: Done  60 tasks      | elapsed:    4.7s\n",
      "[Parallel(n_jobs=-1)]: Done 1600 out of 1600 | elapsed:   14.1s finished\n"
     ]
    },
    {
     "data": {
      "text/plain": [
       "GridSearchCV(cv=5, error_score='raise',\n",
       "       estimator=LogisticRegression(C=1.0, class_weight=None, dual=False, fit_intercept=True,\n",
       "          intercept_scaling=1, max_iter=100, multi_class='ovr', n_jobs=1,\n",
       "          penalty='l2', random_state=None, solver='liblinear', tol=0.0001,\n",
       "          verbose=0, warm_start=False),\n",
       "       fit_params={}, iid=True, n_jobs=-1,\n",
       "       param_grid={'C': array([  1.00000e+00,   1.83298e+00,   3.35982e+00,   6.15848e+00,\n",
       "         1.12884e+01,   2.06914e+01,   3.79269e+01,   6.95193e+01,\n",
       "         1.27427e+02,   2.33572e+02,   4.28133e+02,   7.84760e+02,\n",
       "         1.43845e+03,   2.63665e+03,   4.83293e+03,   8.85867e+03,\n",
       "         1.62378e+04,   2.97635e+04,   5.45559e+04,   1.00000e+05]), 'intercept_scaling': [2, 1], 'solver': ['liblinear'], 'fit_intercept': [False, True], 'penalty': ['l1', 'l2'], 'class_weight': [None, 'balanced']},\n",
       "       pre_dispatch='2*n_jobs', refit=True, scoring=None, verbose=1)"
      ]
     },
     "execution_count": 41,
     "metadata": {},
     "output_type": "execute_result"
    }
   ],
   "source": [
    "estimator.fit(X_train, y_train)"
   ]
  },
  {
   "cell_type": "code",
   "execution_count": 42,
   "metadata": {
    "collapsed": false
   },
   "outputs": [
    {
     "name": "stdout",
     "output_type": "stream",
     "text": [
      "Best estimators on the left out data:\n",
      "LogisticRegression(C=1.0, class_weight=None, dual=False, fit_intercept=True,\n",
      "          intercept_scaling=1, max_iter=100, multi_class='ovr', n_jobs=1,\n",
      "          penalty='l1', random_state=None, solver='liblinear', tol=0.0001,\n",
      "          verbose=0, warm_start=False)\n",
      "\n",
      "Best C / Regularization Param on the left out data:\n",
      "1.0\n",
      "\n",
      "Best Params on hold out data (train):\n",
      "{'C': 1.0, 'intercept_scaling': 1, 'fit_intercept': True, 'solver': 'liblinear', 'penalty': 'l1', 'class_weight': None}\n",
      "\n",
      "Best Score on left out data:0.745 \n",
      "\n"
     ]
    }
   ],
   "source": [
    "log_best = estimator.best_estimator_\n",
    "print \"Best estimators on the left out data:\\n\", log_best\n",
    "\n",
    "print \"\\nBest C / Regularization Param on the left out data:\\n\", estimator.best_estimator_.C # This estimator.best_estimator_ object has many great reporting metrics\n",
    "## Estimator that was chosen by the search, i.e. \n",
    "## estimator which gave highest score (or smallest loss if specified) on the left out data. \n",
    "## Not available if refit=False.\n",
    "\n",
    "print \"\\nBest Params on hold out data (train):\\n\", estimator.best_params_\n",
    "##Parameter setting that gave the best results on the hold out data.\n",
    "\n",
    "print \"\\nBest Score on left out data:%.3f \\n\" % estimator.best_score_\n",
    "## Score of best_estimator on the left out data."
   ]
  },
  {
   "cell_type": "code",
   "execution_count": 43,
   "metadata": {
    "collapsed": false
   },
   "outputs": [
    {
     "name": "stdout",
     "output_type": "stream",
     "text": [
      "0    451\n",
      "1    150\n",
      "Name: had_affair, dtype: int64 \n",
      "\n",
      "if I randomly choose, 25 percent of the time I will be choosing democrat \n"
     ]
    }
   ],
   "source": [
    "'''Baseline'''\n",
    "'''Remeber that 0 is republican 1 is democrat'''\n",
    "print affair_dumm['had_affair'].value_counts(), \"\\n\" \n",
    "print \"if I randomly choose, %.0f percent of the time I will be choosing democrat \" % ((np.mean(affair_dumm['had_affair']))*100)"
   ]
  },
  {
   "cell_type": "markdown",
   "metadata": {},
   "source": [
    "## 6. Evaluate your classfier (Confusion  Matrix,  Classification Report, ROC\n",
    "---\n",
    "\n",
    "- how many TP, TN, FP, FN values you have\n",
    "- what is your accuracy, error rate, FPR, TPR, "
   ]
  },
  {
   "cell_type": "code",
   "execution_count": 44,
   "metadata": {
    "collapsed": false
   },
   "outputs": [],
   "source": [
    "# Load Confusion Matrix package\n",
    "from sklearn.metrics import confusion_matrix"
   ]
  },
  {
   "cell_type": "code",
   "execution_count": 45,
   "metadata": {
    "collapsed": false
   },
   "outputs": [
    {
     "data": {
      "text/plain": [
       "array([[138,   3],\n",
       "       [ 32,   8]])"
      ]
     },
     "execution_count": 45,
     "metadata": {},
     "output_type": "execute_result"
    }
   ],
   "source": [
    "'''This is the simplistic way to run a confusion Matrix'''\n",
    "y_pred=estimator.predict(X_test)\n",
    "\n",
    "confmat = confusion_matrix(y_true=y_test, y_pred=y_pred)\n",
    "confmat"
   ]
  },
  {
   "cell_type": "code",
   "execution_count": 46,
   "metadata": {
    "collapsed": false
   },
   "outputs": [
    {
     "data": {
      "text/html": [
       "<div>\n",
       "<table border=\"1\" class=\"dataframe\">\n",
       "  <thead>\n",
       "    <tr style=\"text-align: right;\">\n",
       "      <th></th>\n",
       "      <th>Predict_Label_0 No affair</th>\n",
       "      <th>Predict_Label_1 Had affair</th>\n",
       "    </tr>\n",
       "  </thead>\n",
       "  <tbody>\n",
       "    <tr>\n",
       "      <th>True_Label_0 No affair</th>\n",
       "      <td>138</td>\n",
       "      <td>3</td>\n",
       "    </tr>\n",
       "    <tr>\n",
       "      <th>True_Label_1 Had affair</th>\n",
       "      <td>32</td>\n",
       "      <td>8</td>\n",
       "    </tr>\n",
       "  </tbody>\n",
       "</table>\n",
       "</div>"
      ],
      "text/plain": [
       "                         Predict_Label_0 No affair  Predict_Label_1 Had affair\n",
       "True_Label_0 No affair                         138                           3\n",
       "True_Label_1 Had affair                         32                           8"
      ]
     },
     "execution_count": 46,
     "metadata": {},
     "output_type": "execute_result"
    }
   ],
   "source": [
    "'''Pass it to a dataframe'''\n",
    "confusion = pd.DataFrame(confmat, index=['True_Label_0 No affair', 'True_Label_1 Had affair'],\n",
    "                         columns=['Predict_Label_0 No affair', 'Predict_Label_1 Had affair'])\n",
    "\n",
    "confusion"
   ]
  },
  {
   "cell_type": "code",
   "execution_count": 47,
   "metadata": {
    "collapsed": false
   },
   "outputs": [
    {
     "name": "stdout",
     "output_type": "stream",
     "text": [
      "Accuracy score: 80.663\n"
     ]
    }
   ],
   "source": [
    "## Accuracy\n",
    "## How often is the classifier correct?\n",
    "from sklearn.metrics import accuracy_score\n",
    "\n",
    "acc = accuracy_score(y_test, y_pred)\n",
    "print \"Accuracy score: %.3f\" %(acc*100)"
   ]
  },
  {
   "cell_type": "code",
   "execution_count": null,
   "metadata": {
    "collapsed": true
   },
   "outputs": [],
   "source": []
  },
  {
   "cell_type": "code",
   "execution_count": null,
   "metadata": {
    "collapsed": true
   },
   "outputs": [],
   "source": [
    "''' Code by Matt Hancock => thus far one of the best explanations of a Confusion Matrix\n",
    "http://notmatthancock.github.io/2015/10/28/confusion-matrix.html'''\n",
    "\n",
    "def show_confusion_matrix(C,class_labels=['0','1']):\n",
    "    \"\"\"\n",
    "    C: ndarray, shape (2,2) as given by scikit-learn confusion_matrix function\n",
    "    class_labels: list of strings, default simply labels 0 and 1.\n",
    "\n",
    "    Draws confusion matrix with associated metrics.\n",
    "    \"\"\"\n",
    "    import matplotlib.pyplot as plt\n",
    "    import numpy as np\n",
    "    \n",
    "    assert C.shape == (2,2), \"Confusion matrix should be from binary classification only.\"\n",
    "    \n",
    "    # true negative, false positive, etc...\n",
    "    tn = C[0,0]; fp = C[0,1]; fn = C[1,0]; tp = C[1,1];\n",
    "\n",
    "    NP = fn+tp # Num positive examples\n",
    "    NN = tn+fp # Num negative examples\n",
    "    N  = NP+NN\n",
    "\n",
    "    fig = plt.figure(figsize=(10,8))\n",
    "    ax  = fig.add_subplot(111)\n",
    "    ax.imshow(C, interpolation='nearest', cmap=plt.cm.gray)\n",
    "\n",
    "    # Draw the grid boxes\n",
    "    ax.set_xlim(-0.5,2.5)\n",
    "    ax.set_ylim(2.5,-0.5)\n",
    "    ax.plot([-0.5,2.5],[0.5,0.5], '-k', lw=2)\n",
    "    ax.plot([-0.5,2.5],[1.5,1.5], '-k', lw=2)\n",
    "    ax.plot([0.5,0.5],[-0.5,2.5], '-k', lw=2)\n",
    "    ax.plot([1.5,1.5],[-0.5,2.5], '-k', lw=2)\n",
    "\n",
    "    # Set xlabels\n",
    "    ax.set_xlabel('Predicted Label', fontsize=16)\n",
    "    ax.set_xticks([0,1,2])\n",
    "    ax.set_xticklabels(class_labels + [''])\n",
    "    ax.xaxis.set_label_position('top')\n",
    "    ax.xaxis.tick_top()\n",
    "    # These coordinate might require some tinkering. Ditto for y, below.\n",
    "    ax.xaxis.set_label_coords(0.34,1.06)\n",
    "\n",
    "    # Set ylabels\n",
    "    ax.set_ylabel('True Label', fontsize=16, rotation=90)\n",
    "    ax.set_yticklabels(class_labels + [''],rotation=90)\n",
    "    ax.set_yticks([0,1,2])\n",
    "    ax.yaxis.set_label_coords(-0.09,0.65)\n",
    "\n",
    "\n",
    "    # Fill in initial metrics: tp, tn, etc...\n",
    "    ax.text(0,0,\n",
    "            'True Neg: %d\\n(Num Neg: %d)'%(tn,NN),\n",
    "            va='center',\n",
    "            ha='center',\n",
    "            bbox=dict(fc='w',boxstyle='round,pad=1'))\n",
    "\n",
    "    ax.text(0,1,\n",
    "            'False Neg: %d'%fn,\n",
    "            va='center',\n",
    "            ha='center',\n",
    "            bbox=dict(fc='w',boxstyle='round,pad=1'))\n",
    "\n",
    "    ax.text(1,0,\n",
    "            'False Pos: %d'%fp,\n",
    "            va='center',\n",
    "            ha='center',\n",
    "            bbox=dict(fc='w',boxstyle='round,pad=1'))\n",
    "\n",
    "\n",
    "    ax.text(1,1,\n",
    "            'True Pos: %d\\n(Num Pos: %d)'%(tp,NP),\n",
    "            va='center',\n",
    "            ha='center',\n",
    "            bbox=dict(fc='w',boxstyle='round,pad=1'))\n",
    "\n",
    "    # Fill in secondary metrics: accuracy, true pos rate, etc...\n",
    "    ax.text(2,0,\n",
    "            'False Pos Rate: %.2f'%(fp / (fp+tn+0.)),\n",
    "            va='center',\n",
    "            ha='center',\n",
    "            bbox=dict(fc='w',boxstyle='round,pad=1'))\n",
    "\n",
    "    ax.text(2,1,\n",
    "            'True Pos Rate: %.2f'%(tp / (tp+fn+0.)),\n",
    "            va='center',\n",
    "            ha='center',\n",
    "            bbox=dict(fc='w',boxstyle='round,pad=1'))\n",
    "\n",
    "    ax.text(2,2,\n",
    "            'Accuracy: %.2f'%((tp+tn+0.)/N),\n",
    "            va='center',\n",
    "            ha='center',\n",
    "            bbox=dict(fc='w',boxstyle='round,pad=1'))\n",
    "\n",
    "    ax.text(0,2,\n",
    "            'Neg Pre Val: %.2f'%(1-fn/(fn+tn+0.)),\n",
    "            va='center',\n",
    "            ha='center',\n",
    "            bbox=dict(fc='w',boxstyle='round,pad=1'))\n",
    "\n",
    "    ax.text(1,2,\n",
    "            'Pos Pred Val: %.2f'%(tp/(tp+fp+0.)),\n",
    "            va='center',\n",
    "            ha='center',\n",
    "            bbox=dict(fc='w',boxstyle='round,pad=1'))\n",
    "\n",
    "\n",
    "    plt.tight_layout()\n",
    "    plt.show()"
   ]
  },
  {
   "cell_type": "code",
   "execution_count": null,
   "metadata": {
    "collapsed": false,
    "scrolled": false
   },
   "outputs": [],
   "source": []
  },
  {
   "cell_type": "code",
   "execution_count": null,
   "metadata": {
    "collapsed": false
   },
   "outputs": [],
   "source": [
    "\n",
    "\n"
   ]
  }
 ],
 "metadata": {
  "anaconda-cloud": {},
  "kernelspec": {
   "display_name": "Python [conda root]",
   "language": "python",
   "name": "conda-root-py"
  },
  "language_info": {
   "codemirror_mode": {
    "name": "ipython",
    "version": 2
   },
   "file_extension": ".py",
   "mimetype": "text/x-python",
   "name": "python",
   "nbconvert_exporter": "python",
   "pygments_lexer": "ipython2",
   "version": "2.7.12"
  }
 },
 "nbformat": 4,
 "nbformat_minor": 0
}
