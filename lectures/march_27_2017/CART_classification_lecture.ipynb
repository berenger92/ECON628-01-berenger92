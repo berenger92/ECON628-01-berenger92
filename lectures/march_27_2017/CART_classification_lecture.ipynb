{
 "cells": [
  {
   "cell_type": "markdown",
   "metadata": {
    "slideshow": {
     "slide_type": "slide"
    }
   },
   "source": [
    "<img src=\"https://images.efollett.com/htmlroot/images/templates/storeLogos/CA/864.gif\" style=\"float: right;\"> \n",
    "\n",
    "\n",
    "\n",
    "\n",
    "# ECON628-01 \n",
    "### Lecture 1.1 - CART (Classification Trees)\n"
   ]
  },
  {
   "cell_type": "markdown",
   "metadata": {
    "slideshow": {
     "slide_type": "slide"
    }
   },
   "source": [
    "### Machine Leaning - CART (Revision)\n",
    "---\n",
    "\n",
    "In previous lectures, we discussed what **decision trees** are - CART (classification and regression trees models):\n",
    "* Non-parametric supervised learning method used for classification and regression\n",
    "* Recursively partitioning the input space, and defining a local model in each resulting region of input space. \n",
    "* These methods involve stratifying or segmenting the predictor space into a number of **simple regions**. \n",
    "* The set of splitting rules used to segment the predictor space can be summarized in a tree, therefore the name of **decision tree** methods.\n",
    "\n"
   ]
  },
  {
   "cell_type": "markdown",
   "metadata": {
    "slideshow": {
     "slide_type": "slide"
    }
   },
   "source": [
    "### Machine Leaning - Tree Components (Revision)\n",
    "---\n",
    "![](https://snag.gy/wBTr86.jpg)\n",
    "\n",
    "\n"
   ]
  },
  {
   "cell_type": "markdown",
   "metadata": {
    "slideshow": {
     "slide_type": "slide"
    }
   },
   "source": [
    "### Machine Leaning - simple classification examples\n",
    "---\n",
    "#### Example 1\n",
    "- An emergency room in a hospital measures multiple variables (e.g., blood pressure, age, etc) of newly admitted patients. \n",
    "- A **decision** is needed: whether to put a new patient in an intensive-care unit ICU. \n",
    "- Due to the high cost of ICU, those patients who may survive less than a month are given higher priority. \n",
    "\n",
    "- **Problem: to predict high-risk patients and discriminate them from low-risk patients.**\n",
    "---\n",
    "#### Example 2\n",
    "- A micro-credit company/non-profit receives thousands of applications for new loans. Each application contains the following information about an applicant: \n",
    "    - age \n",
    "    - has_job\n",
    "    - own_house\n",
    "    - credit_rating\n",
    "\n",
    "- **Problem: to decide whether an _application_ should approved, or to classify applications into two categories, _approved_ and _not approved_.**\n",
    " "
   ]
  },
  {
   "cell_type": "markdown",
   "metadata": {
    "slideshow": {
     "slide_type": "slide"
    }
   },
   "source": [
    "### Machine Leaning - classification process - the big picture\n",
    "---\n",
    "#### 1. Given a labeled train dataset:\n",
    "![](https://snag.gy/7iLjeI.jpg)\n",
    "\n",
    "#### 2. Train a model using the training data => use this model to classify/predict future loan applications into \n",
    "    - Yes (approved)  \n",
    "    - No (not approved)\n",
    "        - What will be the classification of the following applicant?\n",
    "![](https://snag.gy/CqfB8i.jpg)\n",
    "*Images from Bing Liu, University of Illinois*\n",
    "#### 3. Test the model using the unseen test data to assess the model accuracy (and other metrics)... where accuracy:\n",
    "$$Accuracy = \\frac{Number . of . Correct . Classifications: (tp + tn)} {Total . Number . of . test . cases: n = tp + tn + fp + fn} $$ \n",
    "\n"
   ]
  },
  {
   "cell_type": "markdown",
   "metadata": {
    "slideshow": {
     "slide_type": "subslide"
    }
   },
   "source": [
    "### Machine Leaning - Decision Tree Classification output\n",
    "---\n",
    "Using the loan example and after the implementation of an unpruned tree, the output will look like this:\n",
    "![](https://snag.gy/J49kCn.jpg)\n",
    "*Images from Bing Liu, University of Illinois*"
   ]
  },
  {
   "cell_type": "markdown",
   "metadata": {
    "slideshow": {
     "slide_type": "slide"
    }
   },
   "source": [
    "### Machine Leaning - Decision Tree Classification - heuristic algorithm (1)\n",
    "---\n",
    "- But this decision tree is not unique\n",
    "    - Finding the best tree is **hard** and the tree building algorithms are **heuristic algorithms**\n",
    "\n",
    "\n",
    "- The term **heuristic is used for algorithms** which find solutions among all possible ones, but they do not guarantee that the best will be found, therefore they may be considered as approximately and not accurate algorithms.\n",
    "- These algorithms, usually find a solution close to the best one and they find it fast and easily.\n",
    "- Sometimes these algorithms can be accurate, that is they actually find the best solution, but the algorithm is still called heuristic until this **best solution is proven to be the best.**\n",
    "- The method used from a heuristic algorithm is one of the known methods,such as **greediness**, but in order to be easy and fast the algorithm ignores or even suppresses some of the problem's demands.\n",
    "\n",
    "http://students.ceid.upatras.gr/~papagel/project/kef5_5.htm"
   ]
  },
  {
   "cell_type": "markdown",
   "metadata": {
    "slideshow": {
     "slide_type": "slide"
    }
   },
   "source": [
    "### Machine Leaning - Decision Tree Classification - understanding the tree\n",
    "---\n",
    "- In a decision tree each path from the node to the leaf can be translated into a set of rules\n",
    "- From the following tree:\n",
    "![](https://snag.gy/gbnrGm.jpg)\n",
    "*Images from Bing Liu, University of Illinois*\n",
    "\n",
    "&nbsp; \n",
    "\n",
    "we can get the following output/rules =>\n",
    "- if own_house = True, then Class = Yes\n",
    "    - [ 6/15 -- 6/6]\n",
    "- if own_house = False, and has_job = True, then Class = Yes (approved for loan)\n",
    "    - [ 5/15 -- 5/5]  \n",
    "- if own_house = False, and has_job = False, then Class = No (approved for loan)\n",
    "    - [ 4/15 -- 4/4]   "
   ]
  },
  {
   "cell_type": "markdown",
   "metadata": {},
   "source": [
    "We can choose the node we want to start at to predict the classification of an individual.\n",
    "For example, in the case above we choose own house as the parent root, we could've chosen age, or education level."
   ]
  },
  {
   "cell_type": "markdown",
   "metadata": {
    "slideshow": {
     "slide_type": "slide"
    }
   },
   "source": [
    "### Machine Leaning - Regression Tree - (Recursive Binary Splitting)\n",
    "---\n",
    "\n",
    "- **Recall:** for a regression tree, the predicted response for an observation is given by the **mean response** of the training observations that belong to the same terminal node. That is why we use **MSE** as our evaluation metric.\n",
    "\n",
    "- **Recall:** that the prediction is done via stratification of the feature space\n",
    " \n",
    " &nbsp;\n",
    " \n",
    "    - **REGRESSION TREE**,\n",
    "    - When we built a regression tree in general we divide the predictor space => the set of possible values for $X_1$, $X_2$, . . . , $X_p$ into $J$ distinct and non-overlapping regions, $R_1$, $R_2$,...,$R_J$.\n",
    "\n",
    "    - For every observation that falls into the region $R_j$ , we make the same prediction, which is simply the mean of the response values for the training observations in $R_j$.\n",
    "    - The goal is to find boxes $R_1$, . . . , $R_J$ that minimize the RSS (Residual Sum of Squares), given by:\n",
    "    $$\\sum_{j=1}^J \\sum_{i \\in R_j} (y_i - \\hat y_{Rj})^2 $$\n",
    "    $~$\n",
    "        - where $\\hat y_{Rj}$ is the mean response for the training observations within the $j_{th}$ box\n",
    "    \n",
    "    &nbsp;\n",
    "    \n",
    "    - **BUT** the computation of this approach is infeasible as we will need to consider every possible partition of the feature space into $J$ boxes => this is why we need to use the ``top-down greedy'' approach => **recursive binary splitting**\n",
    "    \n",
    "    &nbsp;\n",
    "    \n",
    "    - **TOP-DOWN** because it begins at the top of the tree (at which point all observations belong to a single region), and from here successively splits the predictor space\n",
    "    \n",
    "    &nbsp;\n",
    "    \n",
    "    - **GREEDY** because at each step of the tree-building process, the best split is made at that **particular step,** rather than looking ahead and picking a split that will lead to a better tree in some future step.\n",
    "    \n",
    "       &nbsp;\n",
    "    - In order to perform **recursive binary splitting**, we first select the predictor $X_j$ and the cutpoint $s$ such that splitting the predictor space into the regions that leads to the greatest possible reduction in RSS, where the region of predictor space in which $X_j$ takes on a value less than $s$: $$\\{X|X_j < s \\}  and  \\{X|X_j ≥ s\\}$$ \n",
    "&nbsp;\n",
    "    - That is, we consider all predictors $X_1$, . . . , $X_p$, and all possible values of the cutpoint $s$ for each of the predictors, and then choose the predictor and cutpoint such that the resulting tree has the **lowest RSS**"
   ]
  },
  {
   "cell_type": "markdown",
   "metadata": {},
   "source": [
    "The idea on the algorith Recursive spitting, is that when building the model/tree, the algo goes down and choose everytime the feature with the lowest MSE, and then goes down, and so on..\n"
   ]
  },
  {
   "cell_type": "markdown",
   "metadata": {
    "slideshow": {
     "slide_type": "slide"
    }
   },
   "source": [
    "### Machine Leaning - Regression Tree - example\n",
    "Predicting log of salary of a baseball player, based on # of years played in MLB and # hits made on previous year.\n",
    "\n",
    "![](https://snag.gy/dETZJ3.jpg)\n",
    "![](https://snag.gy/S0RaQK.jpg)\n",
    "*Image from An Introduction to Statistical Learning *"
   ]
  },
  {
   "cell_type": "markdown",
   "metadata": {
    "collapsed": true,
    "slideshow": {
     "slide_type": "subslide"
    }
   },
   "source": [
    "### Machine Leaning - Regression Tree - example\n",
    "In the previous example we see 3 regions defined as:\n",
    "* $R_1$ = {$X$ | $Years$ $<$ 4.5}\n",
    "* $R_2$ = {$X$ | $Years$ $>$ = 4.5, $Hits$ $<$ 117.5} \n",
    "* $R_3$ = {$X$ | $Years$ $>$ = 4.5, $Hits$ $>$ = 117.5}\n",
    "\n",
    "![](https://snag.gy/Is4wZe.jpg)\n",
    "*Image from An Introduction to Statistical Learning *"
   ]
  },
  {
   "cell_type": "markdown",
   "metadata": {
    "slideshow": {
     "slide_type": "slide"
    }
   },
   "source": [
    "### Machine Leaning - Decision Tree Classification \n",
    "---\n",
    "#### Recursive Binary Splitting\n",
    "---\n",
    "- We grow a classification tree using the **Recursive Binary Splitting** approach (the same approach used in regression trees)\n",
    "\n",
    "- In decision tree classification we predict **that each observation belongs to the most commonly occurring class** of training observations in the region to which it belongs.\n",
    "\n",
    "- In decision tree classification our taks is:\n",
    "    - Predict a class that belongs to a particular node\n",
    "    - Look for a correct class proportions among the training observations that fall into the region \n",
    "    \n",
    "    \n",
    "#### Optimization and Purity\n",
    "---\n",
    "- In a binary classification, the maximum **impurity** partition occurs when the 2 classes (0 and 1) are equally present (0.5) in the partition distribution $t$.:\n",
    "  &nbsp;\n",
    "  \n",
    "  $$ p(0 | t) = p(1|t) = 0.5 $$\n",
    "    \n",
    "\n",
    "- Maximum **purity**, on the other hand, is when only one class is present, i.e: \n",
    "  &nbsp;\n",
    "  \n",
    "$$ p(0|t) = 1 – p(1|t) = 1 $$\n",
    " "
   ]
  },
  {
   "cell_type": "markdown",
   "metadata": {},
   "source": [
    "Maximum purity is when we only have one type of sample in the prediction/feature. For example, if we have in a sample, female and male, and in one node, we only have male, we have maximum purity (P=1), if we have 2 classes (males and females), then we have impurity (P<1).\n",
    "\n",
    "So, what method can we use to calculate the purity level?"
   ]
  },
  {
   "cell_type": "markdown",
   "metadata": {
    "slideshow": {
     "slide_type": "slide"
    }
   },
   "source": [
    "### Machine Leaning - Decision Tree Classification \n",
    "---\n",
    "#### Selecting The Best Split - Maximum Purity\n",
    "---\n",
    "- To achieve maximum purity we need to optimize an **objective function**. \n",
    "\n",
    "- We want this objective function to measure the **gain in purity** from a particular split. Therefore it depends on the class distribution over the nodes (_before and after the split_). \n",
    "    - For example, let $p(i|t)$ be the an objective function that is the fraction of records belonging to class $i$ at a given node $t$. This function captures the probability of **`class i`** in the data at **`node t`** (e.g., the fraction of records labeled **`i`** at node **`t`**) \n",
    "  \n",
    "  &nbsp;\n",
    "  \n",
    "- We then select the best split based on the degree of impurity of the child nodes\n",
    "- Where the smaller the degree of impurity, the more skewed the class distribution \n",
    "    - A node with class distribution (0,1) has zero impurity, \n",
    "    - A node with uniform class distribution (0.5, 0.5) has the highest impurity.\n",
    "\n",
    "\n"
   ]
  },
  {
   "cell_type": "markdown",
   "metadata": {
    "slideshow": {
     "slide_type": "slide"
    }
   },
   "source": [
    "### Machine Leaning - Decision Tree Classification  \n",
    "---\n",
    "#### Impurity Measures Methods\n",
    "---\n",
    "- To make a **binary split** in the decision tree classification we use the impurity measures methods, where the **Gini** inpurity is primarily used in the CART algorithm (**Gini and Entropy** are available in sklearn's classification and decision tree models)\n",
    "\n",
    "$$ \\text{Entropy(t)} = - \\sum_{i=0}^{c-1 } p(i\\;|\\;t)\\;log_2\\; p(i\\;|\\;t) $$\n",
    "\n",
    "$$ \\text{Gini(t)} = 1 - \\sum_{i=0}^{c-1} \\{ p(i\\;|\\;t) \\}^2 $$\n",
    "\n",
    "$$ \\text{Classification error(t)} = 1 - max_i\\{ p(i\\;|\\;t) \\} $$\n",
    "\n",
    "... where $c$ is the number of classes and $0$ $log_2$ $0$ = $0$ in entropy calculations\n",
    "\n"
   ]
  },
  {
   "cell_type": "code",
   "execution_count": 21,
   "metadata": {
    "collapsed": false,
    "scrolled": false,
    "slideshow": {
     "slide_type": "slide"
    }
   },
   "outputs": [
    {
     "data": {
      "image/png": "[encoded data removed]",
      "text/plain": [
       "<matplotlib.figure.Figure at 0x10b26c810>"
      ]
     },
     "metadata": {},
     "output_type": "display_data"
    },
    {
     "name": "stdout",
     "output_type": "stream",
     "text": [
      "In the graph p refers to the records that belong to one of the classes\n",
      "The 3 measurements get their maximum value when p=0.5, meaning the class distribution is uniform\n",
      "Minimun values are obtained at the extremes p=0 or p=1\"\n"
     ]
    }
   ],
   "source": [
    "'''From Python Machine Learning\n",
    "https://github.com/rasbt/python-machine-learning-book/blob/master/code/ch03/ch03.ipynb'''\n",
    "\n",
    "import matplotlib.pyplot as plt\n",
    "import numpy as np\n",
    "%matplotlib inline\n",
    "def gini(p):\n",
    "    return p * (1 - p) + (1 - p) * (1 - (1 - p))\n",
    "def entropy(p):\n",
    "    return - p * np.log2(p) - (1 - p) * np.log2((1 - p))\n",
    "def error(p):\n",
    "    return 1 - np.max([p, 1 - p])\n",
    "x = np.arange(0.0, 1.0, 0.01)\n",
    "ent = [entropy(p) if p != 0 else None for p in x]\n",
    "sc_ent = [e * 0.5 if e else None for e in ent]\n",
    "err = [error(i) for i in x]\n",
    "\n",
    "fig = plt.figure()\n",
    "ax = plt.subplot(111)\n",
    "for i, lab, ls, c, in zip([ent, sc_ent, gini(x), err], \n",
    "                          ['Entropy', 'Entropy (scaled)', \n",
    "                           'Gini Impurity', 'Misclassification Error'],\n",
    "                          ['-', '-', '--', '-.'],\n",
    "                          ['black', 'lightgray', 'red', 'green', 'cyan']):\n",
    "    line = ax.plot(x, i, label=lab, linestyle=ls, lw=2, color=c)\n",
    "\n",
    "ax.legend(loc='upper center', bbox_to_anchor=(0.5, 1.5),\n",
    "          ncol=2, fancybox=True, shadow=False)\n",
    "\n",
    "ax.axhline(y=0.5, linewidth=1, color='k', linestyle='--')\n",
    "ax.axhline(y=1.0, linewidth=1, color='k', linestyle='--')\n",
    "plt.title(\"\\nComparison among the impurity measures for binary classification problems\\n\")\n",
    "plt.ylim([0, 1.1])\n",
    "plt.xlabel('p(i=1)')\n",
    "plt.ylabel('Impurity Index')\n",
    "plt.tight_layout()\n",
    "plt.show()\n",
    "\n",
    "explanation = '''In the graph p refers to the records that belong to one of the classes\n",
    "The 3 measurements get their maximum value when p=0.5, meaning the class distribution is uniform\n",
    "Minimun values are obtained at the extremes p=0 or p=1\"'''\n",
    "print explanation"
   ]
  },
  {
   "cell_type": "markdown",
   "metadata": {},
   "source": [
    "Note: Entropy measure/method graph has that shape because of the log form in the function.\n",
    "Misclass error, is just a straight line because it is a binary function, either classified or not."
   ]
  },
  {
   "cell_type": "markdown",
   "metadata": {
    "slideshow": {
     "slide_type": "slide"
    }
   },
   "source": [
    "### Machine Leaning - Decision Tree Classification  \n",
    "---\n",
    "#### Computing impurity measures\n",
    "---\n",
    "- In this hypothetical example Node 1 ($N_1$) has the lowest **impurity** value, followed by Node 2 ($N_2$) and Node 3 ($N_3$)\n",
    "![](https://snag.gy/P6ohaY.jpg)\n",
    "*Image from Introduction to Data Mining, Kumar, V. et.al*"
   ]
  },
  {
   "cell_type": "markdown",
   "metadata": {},
   "source": [
    "In General, the model with Entropy of 1 performs the best."
   ]
  },
  {
   "cell_type": "raw",
   "metadata": {},
   "source": []
  },
  {
   "cell_type": "markdown",
   "metadata": {},
   "source": [
    "NB: here it's a NON PARAMETRIC METHOD, so we can't say for sure that one feature predict the feature root. Exple, having a motorcycle is not necessarily a predictor of income. \n",
    "So we need IMPURITY METHOD to be able to predict the relation between two features (parent and child node)\n",
    "\n",
    "So we need to gain information from the parent node all the w"
   ]
  },
  {
   "cell_type": "markdown",
   "metadata": {
    "slideshow": {
     "slide_type": "subslide"
    }
   },
   "source": [
    "### Machine Leaning - Decision Tree Classification  \n",
    "---\n",
    "#### Entropy  and information gained\n",
    "---\n",
    "- Notes white board (Entrophy)\n",
    "- Given a dataset $D$, we need to compute its entrophy\n",
    "$$ \\text{Entropy(D)} = - \\sum_{j=1}^{|C|} Pr(C_j)\\;log_2\\; Pr(C_j) $$\n",
    "$~$\n",
    "- If we make attribute $A_i$, with $v$ values, the root of the current tree, this will partition $D$ into $v$ subsets $D_1$, $D_2$ …, $D_v$ . The expected entropy if $A_i$ is used as the current root:\n",
    "\n",
    "$$ Entropy_{Ai}\\;(D) = - \\sum_{j=1}^{v}\\frac{|D_j|}{|D|}\\;x\\;entropy(D_j) $$\n",
    "\n",
    "- Where the **information gained** by selecting attribute $A_i$ to partion the data is:\n",
    "\n",
    "$$ gain(D,\\; A_i) = entropy(D)\\; - \\; entropy_{A_i}(D) $$"
   ]
  },
  {
   "cell_type": "markdown",
   "metadata": {
    "slideshow": {
     "slide_type": "slide"
    }
   },
   "source": [
    "### Machine Leaning - Decision Tree Classification  \n",
    "---\n",
    "#### Information gained\n",
    "---\n",
    "- We need to determine how well a test condition performs, and we do this by comparing the degree of impurity before the splitting (parent node) with the degree of impurity after the splitting (child nodes)\n",
    "$$ gain(D,\\; A_i) = entropy(D)\\; - \\; entropy_{A_i}(D) $$\n",
    "\n",
    "- Where the larger the difference the better the test condition\n",
    "- We can make this comparison using what is called the **gain**: \n",
    "\n",
    "$$ \\Delta = I(\\text{parent}) - \\sum_{\\text{children}}\\frac{N_j}{N}I(\\text{child}_j) $$\n",
    "\n",
    "Where $I$ is the impurity measure, $N_j$ denotes the number of records at child node $j$, and $N$ denotes the number of records at the parent node. When $I$ is the [**entropy function**](https://en.wikipedia.org/wiki/Binary_entropy_function), this quantity is called the [**information gain**](https://en.wikipedia.org/wiki/Information_gain_in_decision_trees).\n",
    "\n",
    "**[Nice example of how misclassification error can break branching.](http://sebastianraschka.com/faq/docs/decisiontree-error-vs-entropy.html)**"
   ]
  },
  {
   "cell_type": "markdown",
   "metadata": {
    "slideshow": {
     "slide_type": "slide"
    }
   },
   "source": [
    "### Machine Leaning - Decision Tree Classification - Entropy\n",
    "---\n",
    "- Take a closer look at these 2 trees with 2 possible roots -  Which one is the best choice for root?\n",
    "![](https://snag.gy/IHkNgf.jpg)\n",
    "*Images from Bing Liu, University of Illinois*"
   ]
  },
  {
   "cell_type": "markdown",
   "metadata": {},
   "source": [
    "In this case, among the two predictors age or own house, the best predictor with more purity is OWN HOUSE because it has more purity that age. On the first, all nodes have observations spred out in both classes yes and no, which is impur, but on the second one OWN HOUSE, we have one node True that is pure because it has all observations in 1 class, although false node is impur."
   ]
  },
  {
   "cell_type": "markdown",
   "metadata": {
    "slideshow": {
     "slide_type": "subslide"
    }
   },
   "source": [
    "### Machine Leaning - Decision Tree Classification  - Entropy \n",
    "---\n",
    "\n",
    "![](https://snag.gy/94IHcB.jpg)\n",
    "*Images from Bing Liu, University of Illinois*\n"
   ]
  },
  {
   "cell_type": "markdown",
   "metadata": {
    "slideshow": {
     "slide_type": "slide"
    }
   },
   "source": [
    "### Machine Leaning - Random Forest\n",
    "* One way to reduce variance of an estimate is to average together many estimates.\n",
    "* We can train $M$ different trees on different subsets of the data, **choosing randomly with replacement** and then compute the **ensemble:**\n",
    "$$ f(X)= \\sum_{m=1}^M \\frac 1M f_m(X)$$\n",
    "\n",
    "where $f_m$ is the $m$’th tree. \n",
    "* This technique is called **bagging** => “bootstrap aggregating”"
   ]
  },
  {
   "cell_type": "markdown",
   "metadata": {
    "slideshow": {
     "slide_type": "subslide"
    }
   },
   "source": [
    "### Machine Leaning - Random Forest\n",
    "* Re-running the same learning algorithm on different subsets of the data can result in highly correlated predictors.\n",
    "* This limits the amount of variance reduction that is possible. \n",
    "* Random forests tries to decorrelate the base learners by learning trees based on a **randomly** chosen subset of input variables, as well as a **randomly** chosen subset of data cases.\n",
    "* Random forests often have very good predictive accuracy."
   ]
  }
 ],
 "metadata": {
  "anaconda-cloud": {},
  "celltoolbar": "Slideshow",
  "kernelspec": {
   "display_name": "Python [conda root]",
   "language": "python",
   "name": "conda-root-py"
  },
  "language_info": {
   "codemirror_mode": {
    "name": "ipython",
    "version": 2
   },
   "file_extension": ".py",
   "mimetype": "text/x-python",
   "name": "python",
   "nbconvert_exporter": "python",
   "pygments_lexer": "ipython2",
   "version": "2.7.12"
  }
 },
 "nbformat": 4,
 "nbformat_minor": 0
}
